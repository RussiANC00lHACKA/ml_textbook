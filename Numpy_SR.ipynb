{
  "nbformat": 4,
  "nbformat_minor": 0,
  "metadata": {
    "colab": {
      "provenance": [],
      "authorship_tag": "ABX9TyPTslqJzDAsf698VM/qcZlF",
      "include_colab_link": true
    },
    "kernelspec": {
      "name": "python3",
      "display_name": "Python 3"
    },
    "language_info": {
      "name": "python"
    }
  },
  "cells": [
    {
      "cell_type": "markdown",
      "metadata": {
        "id": "view-in-github",
        "colab_type": "text"
      },
      "source": [
        "<a href=\"https://colab.research.google.com/github/RussiANC00lHACKA/ml_textbook/blob/main/Numpy_SR.ipynb\" target=\"_parent\"><img src=\"https://colab.research.google.com/assets/colab-badge.svg\" alt=\"Open In Colab\"/></a>"
      ]
    },
    {
      "cell_type": "markdown",
      "source": [
        "# ***NumPy***"
      ],
      "metadata": {
        "id": "ygV9oTWrk6kq"
      }
    },
    {
      "cell_type": "markdown",
      "source": [
        "## ***Введение в Numpy***"
      ],
      "metadata": {
        "id": "i2x_mL4skxzh"
      }
    },
    {
      "cell_type": "markdown",
      "source": [
        "`Numpy` — это `библиотека` для работы с многомерными массивами и матрицами, которая предоставляет множество математических функций для работы с ними. Она является `основой` многих других библиотек для машинного обучения и научных вычислений!"
      ],
      "metadata": {
        "id": "pDg-nsZIlC9h"
      }
    },
    {
      "cell_type": "code",
      "execution_count": null,
      "metadata": {
        "colab": {
          "base_uri": "https://localhost:8080/"
        },
        "id": "Df3g5PFokppI",
        "outputId": "39d93d23-f280-4f1d-fdce-d575d34c7de3"
      },
      "outputs": [
        {
          "output_type": "stream",
          "name": "stdout",
          "text": [
            "Requirement already satisfied: numpy in /usr/local/lib/python3.10/dist-packages (1.26.4)\n"
          ]
        }
      ],
      "source": [
        "!pip install numpy\n",
        "import numpy as np"
      ]
    },
    {
      "cell_type": "markdown",
      "source": [
        "## ***Создание и основные операции с массивами***"
      ],
      "metadata": {
        "id": "ZHiZMesElYoi"
      }
    },
    {
      "cell_type": "markdown",
      "source": [
        "Массивы Numpy — это основная структура данных в библиотеке. Они позволяют эффективно хранить и обрабатывать данные.\n",
        "\n",
        "`ndarray` — это основной объект библиотеки Numpy. Он представляет собой многомерный массив, который позволяет эффективно работать с большими объемами данных, выполняя математические операции намного быстрее, чем обычные Python списки.\n",
        "\n",
        "Например, массив из чисел `[1, 2, 3, 4]` можно рассматривать как одномерный массив.\n"
      ],
      "metadata": {
        "id": "P9pQHqpNljsf"
      }
    },
    {
      "cell_type": "code",
      "source": [
        "# Одномерный массив (1D array)\n",
        "array_1d = np.array([10, 20, 30, 40, 50])\n",
        "print(\"Одномерный массив:\")\n",
        "print(array_1d)"
      ],
      "metadata": {
        "colab": {
          "base_uri": "https://localhost:8080/"
        },
        "id": "xErixdkTlXTu",
        "outputId": "a4b32dca-b4c0-4595-afb9-be0f0cb34dc3"
      },
      "execution_count": null,
      "outputs": [
        {
          "output_type": "stream",
          "name": "stdout",
          "text": [
            "Одномерный массив:\n",
            "[10 20 30 40 50]\n"
          ]
        }
      ]
    },
    {
      "cell_type": "code",
      "source": [
        "# Двумерный массив (2D array)\n",
        "array_2d = np.array([[1, 2, 3], [4, 5, 6], [7, 8, 9]])\n",
        "print(\"\\nДвумерный массив:\")\n",
        "print(array_2d)"
      ],
      "metadata": {
        "colab": {
          "base_uri": "https://localhost:8080/"
        },
        "id": "RDXYuyQYl0-I",
        "outputId": "b4164c13-592f-42c2-ecde-4ada095799fb"
      },
      "execution_count": null,
      "outputs": [
        {
          "output_type": "stream",
          "name": "stdout",
          "text": [
            "\n",
            "Двумерный массив:\n",
            "[[1 2 3]\n",
            " [4 5 6]\n",
            " [7 8 9]]\n"
          ]
        }
      ]
    },
    {
      "cell_type": "markdown",
      "source": [
        "\n",
        "Когда мы создаем массив `ndarray`, он имеет различные атрибуты и методы, которые помогают нам управлять его размером, структурой и типом данных.\n",
        "\n",
        "- `shape`: Этот атрибут показывает форму массива, то есть количество элементов в каждом измерении.\n",
        "- `dtype`: Тип данных массива, например, int32, float64 и т.д.\n",
        "- `size`: Общее количество элементов в массиве."
      ],
      "metadata": {
        "id": "YI9x14A7qt2b"
      }
    },
    {
      "cell_type": "code",
      "source": [
        "# Методы для работы с массивами\n",
        "\n",
        "# Форма массива (shape)\n",
        "print(\"Форма одномерного массива:\", array_1d.shape)\n",
        "print(\"Форма двумерного массива:\", array_2d.shape)\n",
        "\n",
        "# Тип данных массива (dtype)\n",
        "print(\"Тип данных одномерного массива:\", array_1d.dtype)\n",
        "\n",
        "# Общее количество элементов в массиве (size)\n",
        "print(\"Количество элементов в двумерном массиве:\", array_2d.size)"
      ],
      "metadata": {
        "colab": {
          "base_uri": "https://localhost:8080/"
        },
        "id": "gzhuI0oGq7Bs",
        "outputId": "71a6f776-3cbf-4210-ec8e-0f57280c1717"
      },
      "execution_count": null,
      "outputs": [
        {
          "output_type": "stream",
          "name": "stdout",
          "text": [
            "Форма одномерного массива: (5,)\n",
            "Форма двумерного массива: (3, 3)\n",
            "Тип данных одномерного массива: int64\n",
            "Количество элементов в двумерном массиве: 9\n"
          ]
        }
      ]
    },
    {
      "cell_type": "markdown",
      "source": [
        "Операции с массивами:\n",
        "- `Индексация`: Мы можем обращаться к элементам массива, используя индексы. В двумерных массивах индексация осуществляется по строкам и столбцам.\n",
        "- `Срезы (slicing)`: Срезы позволяют выбрать подмножество элементов массива. Например, можно выбрать первую строку или несколько элементов из одного столбца."
      ],
      "metadata": {
        "id": "jf_OWAYSrOqN"
      }
    },
    {
      "cell_type": "code",
      "source": [
        "# Индексация элементов массива\n",
        "\n",
        "# Одномерный массив\n",
        "print(\"Элемент на 2-й позиции в одномерном массиве:\", array_1d[1])\n",
        "\n",
        "# Двумерный массив\n",
        "print(\"Элемент на позиции (2, 1) в двумерном массиве:\", array_2d[2, 1])  # 7-я строка, 2-й столбец\n"
      ],
      "metadata": {
        "colab": {
          "base_uri": "https://localhost:8080/"
        },
        "id": "oOoBMJo1rV1N",
        "outputId": "81017c27-eb5a-48f5-94d1-981a791b5e91"
      },
      "execution_count": null,
      "outputs": [
        {
          "output_type": "stream",
          "name": "stdout",
          "text": [
            "Элемент на 2-й позиции в одномерном массиве: 20\n",
            "Элемент на позиции (2, 1) в двумерном массиве: 8\n"
          ]
        }
      ]
    },
    {
      "cell_type": "code",
      "source": [
        "# Срезы (slicing) массива\n",
        "\n",
        "# Одномерный массив\n",
        "print(\"Срез элементов с 2-й по 4-ю позицию в одномерном массиве:\", array_1d[1:4])\n",
        "\n",
        "# Двумерный массив: получение первой строки\n",
        "print(\"Первая строка двумерного массива:\")\n",
        "print(array_2d[0, :])\n",
        "\n",
        "# Двумерный массив: получение второго столбца\n",
        "print(\"Второй столбец двумерного массива:\")\n",
        "print(array_2d[:, 1])\n"
      ],
      "metadata": {
        "colab": {
          "base_uri": "https://localhost:8080/"
        },
        "id": "zZPGzRsWrZo1",
        "outputId": "933deb5f-350a-4bc0-94ad-b895b4ccf62d"
      },
      "execution_count": null,
      "outputs": [
        {
          "output_type": "stream",
          "name": "stdout",
          "text": [
            "Срез элементов с 2-й по 4-ю позицию в одномерном массиве: [20 30 40]\n",
            "Первая строка двумерного массива:\n",
            "[1 2 3]\n",
            "Второй столбец двумерного массива:\n",
            "[2 5 8]\n"
          ]
        }
      ]
    },
    {
      "cell_type": "markdown",
      "source": [
        "## ***Арифметические операции и функции над массивами***"
      ],
      "metadata": {
        "id": "8av1YusIrcQ3"
      }
    },
    {
      "cell_type": "markdown",
      "source": [
        "Арифметические операции с массивами\n",
        "Numpy позволяет легко выполнять арифметические операции над массивами. Эти операции могут быть выполнены как между массивами одного размера, так и между массивами и скалярными значениями.\n",
        "\n",
        "Применение математических функций к массивам:\n",
        "\n",
        "- `np.sum()`: вычисляет сумму всех элементов массива или элементов по указанной оси.\n",
        "- `np.mean()`: вычисляет среднее значение всех элементов массива.\n",
        "- `np.max()` и `np.min()`: находит максимальные и минимальные значения соответственно.\n",
        "- `np.std()`: вычисляет стандартное отклонение.\n"
      ],
      "metadata": {
        "id": "TiLSYEiHtwdJ"
      }
    },
    {
      "cell_type": "code",
      "source": [
        "# Создаем два массива\n",
        "array1 = np.array([1, 2, 3, 4])\n",
        "array2 = np.array([5, 6, 7, 8])\n",
        "\n",
        "# Арифметические операции\n",
        "print(\"Сложение массивов:\")\n",
        "print(array1 + array2)  # Сложение\n",
        "\n",
        "print(\"\\nВычитание массивов:\")\n",
        "print(array1 - array2)  # Вычитание\n",
        "\n",
        "print(\"\\nУмножение массивов:\")\n",
        "print(array1 * array2)  # Умножение\n",
        "\n",
        "print(\"\\nДеление массивов:\")\n",
        "print(array1 / array2)  # Деление\n"
      ],
      "metadata": {
        "colab": {
          "base_uri": "https://localhost:8080/"
        },
        "id": "hSJEh6kkttWB",
        "outputId": "62b97c27-9623-4c57-a291-fb116e6efe41"
      },
      "execution_count": null,
      "outputs": [
        {
          "output_type": "stream",
          "name": "stdout",
          "text": [
            "Сложение массивов:\n",
            "[ 6  8 10 12]\n",
            "\n",
            "Вычитание массивов:\n",
            "[-4 -4 -4 -4]\n",
            "\n",
            "Умножение массивов:\n",
            "[ 5 12 21 32]\n",
            "\n",
            "Деление массивов:\n",
            "[0.2        0.33333333 0.42857143 0.5       ]\n"
          ]
        }
      ]
    },
    {
      "cell_type": "code",
      "source": [
        "# Операции со скалярными значениями\n",
        "scalar = 10\n",
        "print(\"\\nСложение массива со скалярным значением:\")\n",
        "print(array1 + scalar)  # Сложение со скалярным значением\n",
        "\n",
        "print(\"\\nУмножение массива на скалярное значение:\")\n",
        "print(array1 * scalar)  # Умножение на скалярное значение\n"
      ],
      "metadata": {
        "colab": {
          "base_uri": "https://localhost:8080/"
        },
        "id": "OscMIwHNuGAT",
        "outputId": "2cae2ee1-366b-4aa2-99d3-e65e3bf7eb77"
      },
      "execution_count": null,
      "outputs": [
        {
          "output_type": "stream",
          "name": "stdout",
          "text": [
            "\n",
            "Сложение массива со скалярным значением:\n",
            "[11 12 13 14]\n",
            "\n",
            "Умножение массива на скалярное значение:\n",
            "[10 20 30 40]\n"
          ]
        }
      ]
    },
    {
      "cell_type": "code",
      "source": [
        "# Применение математических функций к массивам\n",
        "# Создаем новый массив\n",
        "data = np.array([[1, 2, 3], [4, 5, 6]])\n",
        "\n",
        "print(\"\\nИсходный массив:\")\n",
        "print(data)\n",
        "\n",
        "# Сумма всех элементов\n",
        "total_sum = np.sum(data)\n",
        "print(\"\\nСумма всех элементов:\", total_sum)\n",
        "\n",
        "# Среднее значение\n",
        "mean_value = np.mean(data)\n",
        "print(\"Среднее значение:\", mean_value)\n",
        "\n",
        "# Максимальное и минимальное значение\n",
        "max_value = np.max(data)\n",
        "min_value = np.min(data)\n",
        "print(\"Максимальное значение:\", max_value)\n",
        "print(\"Минимальное значение:\", min_value)\n",
        "\n",
        "# Стандартное отклонение\n",
        "std_dev = np.std(data)\n",
        "print(\"Стандартное отклонение:\", std_dev)\n"
      ],
      "metadata": {
        "colab": {
          "base_uri": "https://localhost:8080/"
        },
        "id": "9eQwj3FquJDt",
        "outputId": "82b199a8-a249-4fd5-d4e4-35d086127469"
      },
      "execution_count": null,
      "outputs": [
        {
          "output_type": "stream",
          "name": "stdout",
          "text": [
            "\n",
            "Исходный массив:\n",
            "[[1 2 3]\n",
            " [4 5 6]]\n",
            "\n",
            "Сумма всех элементов: 21\n",
            "Среднее значение: 3.5\n",
            "Максимальное значение: 6\n",
            "Минимальное значение: 1\n",
            "Стандартное отклонение: 1.707825127659933\n"
          ]
        }
      ]
    },
    {
      "cell_type": "code",
      "source": [
        "# Массив из нулей\n",
        "zeros = np.zeros((3, 3))\n",
        "print(zeros)"
      ],
      "metadata": {
        "colab": {
          "base_uri": "https://localhost:8080/"
        },
        "outputId": "9352193e-7100-4432-c125-eb5804a8a5db",
        "id": "-TDt8DpjxP6t"
      },
      "execution_count": null,
      "outputs": [
        {
          "output_type": "stream",
          "name": "stdout",
          "text": [
            "[[0. 0. 0.]\n",
            " [0. 0. 0.]\n",
            " [0. 0. 0.]]\n"
          ]
        }
      ]
    },
    {
      "cell_type": "code",
      "source": [
        "# Массив из единиц\n",
        "ones = np.ones((2, 2))\n",
        "print(ones)"
      ],
      "metadata": {
        "colab": {
          "base_uri": "https://localhost:8080/"
        },
        "outputId": "be0ec991-2c37-4ebc-dc76-e72b9ac00307",
        "id": "npMBmK8qxP6u"
      },
      "execution_count": null,
      "outputs": [
        {
          "output_type": "stream",
          "name": "stdout",
          "text": [
            "[[1. 1.]\n",
            " [1. 1.]]\n"
          ]
        }
      ]
    },
    {
      "cell_type": "code",
      "source": [
        "# Единичная матрица\n",
        "eye = np.eye(3)\n",
        "print(eye)"
      ],
      "metadata": {
        "colab": {
          "base_uri": "https://localhost:8080/"
        },
        "outputId": "e0aae239-a310-4098-bf3e-2a657cd5d0b0",
        "id": "cSL6ATBwxP6u"
      },
      "execution_count": null,
      "outputs": [
        {
          "output_type": "stream",
          "name": "stdout",
          "text": [
            "[[1. 0. 0.]\n",
            " [0. 1. 0.]\n",
            " [0. 0. 1.]]\n"
          ]
        }
      ]
    },
    {
      "cell_type": "markdown",
      "source": [
        "## ***Изменение формы и структуры массивов (10 минут)***"
      ],
      "metadata": {
        "id": "p3mI1sBZuITm"
      }
    },
    {
      "cell_type": "markdown",
      "source": [
        "Мы можем изменять размерность и структуру массивов с помощью следующих методов:\n",
        "\n",
        "- `reshape()`:\n",
        "Этот метод позволяет изменить форму массива, не меняя его данных.\n",
        "- `flatten()` и `ravel()`:\n",
        "`flatten()` возвращает новый одномерный массив, который является копией исходного, тогда как `ravel()` возвращает ссылку на исходный массив, если это возможно."
      ],
      "metadata": {
        "id": "EYx_dolKusws"
      }
    },
    {
      "cell_type": "code",
      "source": [
        "array = np.array([1, 2, 3, 4, 5, 6])\n",
        "print(\"Исходный одномерный массив:\")\n",
        "print(array)\n",
        "\n",
        "# Изменение формы массива с помощью reshape()\n",
        "reshaped_array = array.reshape((2, 3))  # Преобразуем в 2 строки и 3 столбца\n",
        "print(\"\\nМассив после изменения формы (reshape):\")\n",
        "print(reshaped_array)\n"
      ],
      "metadata": {
        "colab": {
          "base_uri": "https://localhost:8080/"
        },
        "id": "LPdFi8n8u9QB",
        "outputId": "5d0c2c21-44b7-4a64-df6f-986c7fbb1aa5"
      },
      "execution_count": null,
      "outputs": [
        {
          "output_type": "stream",
          "name": "stdout",
          "text": [
            "Исходный одномерный массив:\n",
            "[1 2 3 4 5 6]\n",
            "\n",
            "Массив после изменения формы (reshape):\n",
            "[[1 2 3]\n",
            " [4 5 6]]\n"
          ]
        }
      ]
    },
    {
      "cell_type": "code",
      "source": [
        "# Применение flatten() и ravel()\n",
        "flattened_array = reshaped_array.flatten()  # Преобразование в одномерный массив\n",
        "print(\"\\nМассив после flatten():\")\n",
        "print(flattened_array)\n",
        "\n",
        "raveled_array = reshaped_array.ravel()  # Преобразование в одномерный массив\n",
        "print(\"\\nМассив после ravel():\")\n",
        "print(raveled_array)\n"
      ],
      "metadata": {
        "colab": {
          "base_uri": "https://localhost:8080/"
        },
        "id": "qk71OdVBvCIl",
        "outputId": "4f133fe5-1ec2-4a15-c6a2-61b3354612b2"
      },
      "execution_count": null,
      "outputs": [
        {
          "output_type": "stream",
          "name": "stdout",
          "text": [
            "\n",
            "Массив после flatten():\n",
            "[1 2 3 4 5 6]\n",
            "\n",
            "Массив после ravel():\n",
            "[1 2 3 4 5 6]\n"
          ]
        }
      ]
    },
    {
      "cell_type": "markdown",
      "source": [
        "Numpy также позволяет объединять массивы, что часто необходимо при работе с данными:\n",
        "- `concatenate()`:\n",
        "Используется для объединения массивов по заданной оси (0 — по строкам, 1 — по столбцам).\n",
        "- `vstack()` и `hstack()`:\n",
        "`vstack()` позволяет складывать массивы вертикально (по оси 0),\n",
        "`hstack()` — горизонтально (по оси 1)."
      ],
      "metadata": {
        "id": "trZ6aMaSvE3X"
      }
    },
    {
      "cell_type": "code",
      "source": [
        "# Соединение массивов\n",
        "array1 = np.array([[1, 2], [3, 4]])\n",
        "array2 = np.array([[5, 6], [7, 8]])\n",
        "\n",
        "# Объединение с помощью concatenate()\n",
        "concatenated_array = np.concatenate((array1, array2), axis=0)  # По строкам\n",
        "print(\"\\nОбъединение массивов с помощью concatenate (по строкам):\")\n",
        "print(concatenated_array)\n",
        "\n",
        "# Объединение с помощью vstack()\n",
        "vstacked_array = np.vstack((array1, array2))  # Вертикальное объединение\n",
        "print(\"\\nОбъединение массивов с помощью vstack:\")\n",
        "print(vstacked_array)\n",
        "\n",
        "# Объединение с помощью hstack()\n",
        "hstacked_array = np.hstack((array1, array2))  # Горизонтальное объединение\n",
        "print(\"\\nОбъединение массивов с помощью hstack:\")\n",
        "print(hstacked_array)\n"
      ],
      "metadata": {
        "colab": {
          "base_uri": "https://localhost:8080/"
        },
        "id": "tzNUuDnvvaUZ",
        "outputId": "3d4114f3-2b89-45a8-d46c-527864d07e0b"
      },
      "execution_count": null,
      "outputs": [
        {
          "output_type": "stream",
          "name": "stdout",
          "text": [
            "\n",
            "Объединение массивов с помощью concatenate (по строкам):\n",
            "[[1 2]\n",
            " [3 4]\n",
            " [5 6]\n",
            " [7 8]]\n",
            "\n",
            "Объединение массивов с помощью vstack:\n",
            "[[1 2]\n",
            " [3 4]\n",
            " [5 6]\n",
            " [7 8]]\n",
            "\n",
            "Объединение массивов с помощью hstack:\n",
            "[[1 2 5 6]\n",
            " [3 4 7 8]]\n"
          ]
        }
      ]
    },
    {
      "cell_type": "markdown",
      "source": [
        "Разделение массивов также важно для обработки данных:\n",
        "- `split()`: Делит массив на заданное количество подмассивов.\n",
        "- `array_split()`:\n",
        "Позволяет делить массив на подмассивы, при этом размер подмассивов может быть не равным."
      ],
      "metadata": {
        "id": "22IltooUvekT"
      }
    },
    {
      "cell_type": "code",
      "source": [
        "# Разделение массивов\n",
        "split_array = np.array([[1, 2, 3, 4], [5, 6, 7, 8], [9, 10, 11, 12]])\n",
        "print(\"\\nИсходный массив для разделения:\")\n",
        "print(split_array)\n",
        "\n",
        "# Деление массива на 3 подмассива с помощью split()\n",
        "sub_arrays = np.split(split_array, 3)  # Делим на 3 подмассива\n",
        "print(\"\\nРазделение массива на подмассивы:\")\n",
        "for i, sub_array in enumerate(sub_arrays):\n",
        "    print(f\"Подмассив {i + 1}:\")\n",
        "    print(sub_array)\n",
        "\n",
        "# Деление массива на 2 подмассива с использованием array_split()\n",
        "array_split = np.array_split(split_array, 2)  # Делим на 2 подмассива\n",
        "print(\"\\nРазделение массива на 2 подмассива с помощью array_split:\")\n",
        "for i, sub_array in enumerate(array_split):\n",
        "    print(f\"Подмассив {i + 1}:\")\n",
        "    print(sub_array)\n"
      ],
      "metadata": {
        "colab": {
          "base_uri": "https://localhost:8080/"
        },
        "id": "2C7vEpz2vmul",
        "outputId": "b766cab3-91d8-4d2a-c23f-d6a595bb1e57"
      },
      "execution_count": null,
      "outputs": [
        {
          "output_type": "stream",
          "name": "stdout",
          "text": [
            "\n",
            "Исходный массив для разделения:\n",
            "[[ 1  2  3  4]\n",
            " [ 5  6  7  8]\n",
            " [ 9 10 11 12]]\n",
            "\n",
            "Разделение массива на подмассивы:\n",
            "Подмассив 1:\n",
            "[[1 2 3 4]]\n",
            "Подмассив 2:\n",
            "[[5 6 7 8]]\n",
            "Подмассив 3:\n",
            "[[ 9 10 11 12]]\n",
            "\n",
            "Разделение массива на 2 подмассива с помощью array_split:\n",
            "Подмассив 1:\n",
            "[[1 2 3 4]\n",
            " [5 6 7 8]]\n",
            "Подмассив 2:\n",
            "[[ 9 10 11 12]]\n"
          ]
        }
      ]
    },
    {
      "cell_type": "markdown",
      "source": [
        "## ***Работа со случайными числами и генерация данных***"
      ],
      "metadata": {
        "id": "-ad5IpgPvrJY"
      }
    },
    {
      "cell_type": "markdown",
      "source": [
        "Генерация случайных чисел с плавающей запятой:\n",
        "\n",
        "Функция `np.random.rand()` генерирует случайные числа в диапазоне `[0.0, 1.0)` с равномерным распределением. Мы можем задавать размеры выходного массива.\n",
        "\n",
        "Генерация случайных целых чисел:\n",
        "\n",
        "Функция `np.random.randint(low, high, size)` позволяет генерировать случайные целые числа в заданном диапазоне `[low, high)` и с определённым размером массива.\n",
        "\n",
        "Нормальное распределение:\n",
        "\n",
        "Функция `np.random.normal(loc, scale, size)` генерирует случайные числа, следуя нормальному (гауссовскому) распределению с заданным средним значением `loc` и стандартным отклонением `scale`."
      ],
      "metadata": {
        "id": "TuWKS9WXxlzw"
      }
    },
    {
      "cell_type": "code",
      "source": [
        "# Генерация случайных чисел с плавающей запятой\n",
        "random_floats = np.random.rand(5)  # Массив из 5 случайных чисел в диапазоне [0, 1)\n",
        "print(\"Случайные числа с плавающей запятой:\")\n",
        "print(random_floats)"
      ],
      "metadata": {
        "colab": {
          "base_uri": "https://localhost:8080/"
        },
        "id": "vT7FiTK8xUDa",
        "outputId": "596325a6-c99b-4131-97fb-d65471f1a610"
      },
      "execution_count": null,
      "outputs": [
        {
          "output_type": "stream",
          "name": "stdout",
          "text": [
            "Случайные числа с плавающей запятой:\n",
            "[0.36776911 0.09804854 0.29238705 0.55413208 0.92381298]\n"
          ]
        }
      ]
    },
    {
      "cell_type": "code",
      "source": [
        "# Генерация случайных целых чисел\n",
        "random_integers = np.random.randint(low=1, high=100, size=10)  # 10 случайных целых чисел от 1 до 99\n",
        "print(\"\\nСлучайные целые числа:\")\n",
        "print(random_integers)\n"
      ],
      "metadata": {
        "colab": {
          "base_uri": "https://localhost:8080/"
        },
        "id": "VNJlPbcSyDDw",
        "outputId": "3d6bd178-fe84-4a8f-d66b-f8e92e067082"
      },
      "execution_count": null,
      "outputs": [
        {
          "output_type": "stream",
          "name": "stdout",
          "text": [
            "\n",
            "Случайные целые числа:\n",
            "[89 11 18 79 62 51 95 17 41 14]\n"
          ]
        }
      ]
    },
    {
      "cell_type": "code",
      "source": [
        "# Генерация случайных чисел с нормальным распределением\n",
        "mean = 0  # Среднее значение\n",
        "std_dev = 1  # Стандартное отклонение\n",
        "normal_randoms = np.random.normal(loc=mean, scale=std_dev, size=10)  # 10 случайных чисел\n",
        "print(\"\\nСлучайные числа с нормальным распределением:\")\n",
        "print(normal_randoms)\n"
      ],
      "metadata": {
        "colab": {
          "base_uri": "https://localhost:8080/"
        },
        "id": "Xp7okGu_yEyZ",
        "outputId": "3bf1d4e6-0e98-48d9-955e-982dcce16cbb"
      },
      "execution_count": null,
      "outputs": [
        {
          "output_type": "stream",
          "name": "stdout",
          "text": [
            "\n",
            "Случайные числа с нормальным распределением:\n",
            "[-1.06348964 -1.04467374 -0.18189789 -1.39868802  0.80534779  1.20084921\n",
            "  1.26161193  0.5054747   0.3561483   0.76878569]\n"
          ]
        }
      ]
    },
    {
      "cell_type": "markdown",
      "source": [
        "## ***Маленькая практика***"
      ],
      "metadata": {
        "id": "ydtB8XBhzRra"
      }
    },
    {
      "cell_type": "markdown",
      "source": [
        "Инструкция: Создайте набор данных для многоклассовой классификации с тремя классами.\n",
        "Для каждого класса используйте нормальное распределение:\n",
        "\n",
        "- Класс 0: среднее 1, стандартное отклонение 0.5.\n",
        "- Класс 1: среднее 5, стандартное отклонение 1.\n",
        "- Класс 2: среднее 9, стандартное отклонение 0.3.\n",
        "-Каждый класс должен содержать по 100 образцов."
      ],
      "metadata": {
        "id": "Jw6cCDJQza8f"
      }
    },
    {
      "cell_type": "code",
      "source": [
        "n_samples_per_class = 100\n",
        "\n",
        "# Данные для класса 0\n",
        "X_class0 = np.random.normal(loc=1, scale=0.5, size=(n_samples_per_class, 2))\n",
        "y_class0 = np.zeros(n_samples_per_class)\n",
        "\n",
        "# Данные для класса 1\n",
        "X_class1 = np.random.normal(loc=5, scale=1, size=(n_samples_per_class, 2))\n",
        "y_class1 = np.ones(n_samples_per_class)\n",
        "\n",
        "# Данные для класса 2\n",
        "X_class2 = np.random.normal(loc=9, scale=0.3, size=(n_samples_per_class, 2))\n",
        "y_class2 = 2 * np.ones(n_samples_per_class)\n",
        "\n",
        "X = np.vstack((X_class0, X_class1, X_class2))\n",
        "y = np.concatenate((y_class0, y_class1, y_class2))\n"
      ],
      "metadata": {
        "id": "nr5JDzWOzQuE"
      },
      "execution_count": null,
      "outputs": []
    },
    {
      "cell_type": "code",
      "source": [
        "import matplotlib.pyplot as plt\n",
        "\n",
        "plt.figure(figsize=(10, 6))\n",
        "plt.scatter(X_class0[:, 0], X_class0[:, 1], label='Класс 0', alpha=0.6)\n",
        "plt.scatter(X_class1[:, 0], X_class1[:, 1], label='Класс 1', alpha=0.6)\n",
        "plt.scatter(X_class2[:, 0], X_class2[:, 1], label='Класс 2', alpha=0.6)\n",
        "plt.title('Искусственные данные для многоклассовой классификации')\n",
        "plt.xlabel('Признак 1')\n",
        "plt.ylabel('Признак 2')\n",
        "plt.legend()\n",
        "plt.grid()\n",
        "plt.show()\n"
      ],
      "metadata": {
        "colab": {
          "base_uri": "https://localhost:8080/",
          "height": 564
        },
        "id": "zvD0xBm-yGcY",
        "outputId": "0ecfea1c-d3a8-46f1-d77f-87742f2c65b9"
      },
      "execution_count": null,
      "outputs": [
        {
          "output_type": "display_data",
          "data": {
            "text/plain": [
              "<Figure size 1000x600 with 1 Axes>"
            ],
            "image/png": "[encoded data removed]"
          },
          "metadata": {}
        }
      ]
    }
  ]
}