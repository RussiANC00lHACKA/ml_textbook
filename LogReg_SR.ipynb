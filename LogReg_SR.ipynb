{
  "nbformat": 4,
  "nbformat_minor": 0,
  "metadata": {
    "colab": {
      "provenance": []
    },
    "kernelspec": {
      "name": "python3",
      "display_name": "Python 3"
    },
    "language_info": {
      "name": "python"
    }
  },
  "cells": [
    {
      "cell_type": "markdown",
      "source": [
        "# ***Введение в логистическую регрессию***"
      ],
      "metadata": {
        "id": "DrMVogpfaQhX"
      }
    },
    {
      "cell_type": "markdown",
      "source": [
        "## Логистическая регрессия работает на основе предсказания вероятности принадлежности объекта к одному из двух классов. Основной механизм, который она использует для связи с вероятностью, — это ***логистическая (сигмоидная) функция***."
      ],
      "metadata": {
        "id": "dcvfFgp8d4kj"
      }
    },
    {
      "cell_type": "markdown",
      "source": [
        "$$\\Large \\sigma(z) = \\frac{1}{1 + e^{-z}}$$\n"
      ],
      "metadata": {
        "id": "2pRDw0Zxa4yU"
      }
    },
    {
      "cell_type": "markdown",
      "source": [
        "## Почему линейная регрессия не может решать задачу классификации?"
      ],
      "metadata": {
        "id": "HUs_lYftavIl"
      }
    },
    {
      "cell_type": "markdown",
      "source": [
        "# ***Простейшая реализация логистической регрессии в питоне***"
      ],
      "metadata": {
        "id": "oAucTWQkeiML"
      }
    },
    {
      "cell_type": "markdown",
      "source": [
        "## О датафрейме:\n",
        "Описание датасета Pima Indians Diabetes, датасет содержит 768 записей и 8 признаков, среди которых:\n",
        "\n",
        "1. `Pregnancies` — количество беременностей.\n",
        "2. `Glucose` — уровень глюкозы в крови.\n",
        "3. `BloodPressure` — диастолическое артериальное давление (в мм рт. ст.).\n",
        "4. `SkinThickness` — толщина кожной складки (в мм).\n",
        "5. `Insulin` — уровень инсулина в крови (мед/дл).\n",
        "6. `BMI` — индекс массы тела (кг/м²).\n",
        "7. `DiabetesPedigreeFunction` — функция родословной диабета (0-1).\n",
        "8. `Age` — возраст (в годах).\n",
        "9. `Outcome` — наличие диабета (1 — да, 0 — нет)."
      ],
      "metadata": {
        "id": "ozSb-Ypfg9Ni"
      }
    },
    {
      "cell_type": "code",
      "source": [
        "import pandas as pd\n",
        "import numpy as np\n",
        "from sklearn.model_selection import train_test_split\n",
        "from sklearn.linear_model import LogisticRegression\n",
        "from sklearn.metrics import accuracy_score, classification_report, confusion_matrix\n",
        "import warnings\n",
        "warnings.filterwarnings('ignore')\n",
        "\n",
        "url = 'https://raw.githubusercontent.com/jbrownlee/Datasets/master/pima-indians-diabetes.data.csv'\n",
        "column_names = ['Pregnancies', 'Glucose', 'BloodPressure', 'SkinThickness', 'Insulin',\n",
        "                'BMI', 'DiabetesPedigreeFunction', 'Age', 'Outcome']\n",
        "data = pd.read_csv(url, header=None, names=column_names)\n",
        "# Замена 0 в признаках на NaN для корректной обработки пропусков\n",
        "data[['Glucose', 'BloodPressure', 'SkinThickness', 'Insulin', 'BMI']] = data[['Glucose', 'BloodPressure', 'SkinThickness', 'Insulin', 'BMI']].replace(0, np.nan)\n",
        "\n",
        "# Заполнение NaN средними значениями\n",
        "data.fillna(data.mean(), inplace=True)\n",
        "\n",
        "\n",
        "X = data.drop('Outcome', axis=1)\n",
        "y = data['Outcome']\n",
        "X_train, X_test, y_train, y_test = train_test_split(X, y, test_size=0.2, random_state=42)\n",
        "\n",
        "model = LogisticRegression()\n",
        "model.fit(X_train, y_train)\n",
        "\n",
        "y_pred = model.predict(X_test)\n",
        "\n",
        "# Оценка точности\n",
        "accuracy = accuracy_score(y_test, y_pred)\n",
        "print(f'Accuracy: {accuracy:.2f}')\n",
        "\n",
        "# Дополнительные метрики\n",
        "print('Classification Report:')\n",
        "print(classification_report(y_test, y_pred))\n"
      ],
      "metadata": {
        "colab": {
          "base_uri": "https://localhost:8080/"
        },
        "id": "GodycZf7a5JX",
        "outputId": "924859cf-b126-4ef9-8ab3-be718f208f64"
      },
      "execution_count": null,
      "outputs": [
        {
          "output_type": "stream",
          "name": "stdout",
          "text": [
            "Accuracy: 0.75\n",
            "Classification Report:\n",
            "              precision    recall  f1-score   support\n",
            "\n",
            "           0       0.80      0.83      0.81        99\n",
            "           1       0.67      0.62      0.64        55\n",
            "\n",
            "    accuracy                           0.75       154\n",
            "   macro avg       0.73      0.72      0.73       154\n",
            "weighted avg       0.75      0.75      0.75       154\n",
            "\n"
          ]
        }
      ]
    },
    {
      "cell_type": "markdown",
      "source": [
        "Заметим, что без дополнительных вмешательств в модель, наша точность оказывается `0.75`"
      ],
      "metadata": {
        "id": "TMWG8zz_he48"
      }
    },
    {
      "cell_type": "markdown",
      "source": [
        "Вопросы:\n",
        "- **Как вы думаете, чего не хватает для полноценной оценки модели?**\n",
        "- **Как можно улучшить этот код? Например, стоит ли добавить кросс-валидацию?**"
      ],
      "metadata": {
        "id": "cCjWCPkuhX0U"
      }
    },
    {
      "cell_type": "markdown",
      "source": [
        "# ***Математическая основа***"
      ],
      "metadata": {
        "id": "1MnwezqehvtA"
      }
    },
    {
      "cell_type": "markdown",
      "source": [
        "## ***Основная идея***\n",
        "\n",
        "Логистическая регрессия использует **сигмоидную функцию** для преобразования линейной комбинации признаков в вероятность, которая находится в диапазоне от 0 до 1.  \n",
        "\n",
        "## ***Интерпретация***\n",
        "\n",
        "- Если результат функции $\\sigma(z)$ больше 0.5, объект классифицируется как принадлежащий к классу 1; если меньше — к классу 0.\n",
        "- Модель предоставляет вероятностную оценку, что позволяет принимать более обоснованные решения на основе предсказаний."
      ],
      "metadata": {
        "id": "iR5rBoc6iOlv"
      }
    },
    {
      "cell_type": "markdown",
      "source": [
        "Вопрос: **Как выглядит график сигмоидной функции?**"
      ],
      "metadata": {
        "id": "fP8XzoLvjDPz"
      }
    },
    {
      "cell_type": "code",
      "source": [
        "import numpy as np\n",
        "import matplotlib.pyplot as plt\n",
        "\n",
        "def sigmoid(x):\n",
        "    return 1 / (1 + np.exp(-x))\n",
        "\n",
        "x = np.linspace(-10, 10, 100)\n",
        "y = sigmoid(x)\n",
        "\n",
        "plt.plot(x, y)\n",
        "plt.title('Sigmoid Function')\n",
        "plt.xlabel('x')\n",
        "plt.ylabel('Sigmoid(x)')\n",
        "plt.show()\n"
      ],
      "metadata": {
        "colab": {
          "base_uri": "https://localhost:8080/",
          "height": 472
        },
        "id": "FLkaZhzjerZv",
        "outputId": "11a4fd32-d106-4860-f98f-11b59fa23955"
      },
      "execution_count": null,
      "outputs": [
        {
          "output_type": "display_data",
          "data": {
            "text/plain": [
              "<Figure size 640x480 with 1 Axes>"
            ],
            "image/png": "[encoded data removed]"
          },
          "metadata": {}
        }
      ]
    },
    {
      "cell_type": "markdown",
      "source": [
        "# ***Переобучение и недообучение***"
      ],
      "metadata": {
        "id": "h_dktF3bjTNQ"
      }
    },
    {
      "cell_type": "markdown",
      "source": [
        "**Регуляризация** — это метод, который помогает предотвратить переобучение, добавляя штраф за сложность модели.\n",
        "\n",
        "**L1-регуляризация (Lasso)**: Применяет штраф на сумму абсолютных значений коэффициентов. Это может привести к обнулению некоторых коэффициентов, что способствует уменьшению числа признаков и делает модель более интерпретируемой.\n",
        "\n",
        "**L2-регуляризация (Ridge)**: Применяет штраф на сумму квадратов коэффициентов. Это помогает смягчить влияние признаков, которые могут быть шумными или малозначительными, и улучшает обобщающую способность модели."
      ],
      "metadata": {
        "id": "3xQMzLCIkE3N"
      }
    },
    {
      "cell_type": "markdown",
      "source": [
        "### L1 Регуляризация (Lasso)\n",
        "$$\\Large \\text{L1 Loss} = \\sum_{i=1}^{n} (y_i - \\hat{y}_i)^2 + \\lambda \\sum_{j=1}^{p} |\\beta_j|$$\n",
        "\n",
        "### L2 Регуляризация (Ridge)\n",
        "\n",
        "$$\\Large \\text{L2 Loss} = \\sum_{i=1}^{n} (y_i - \\hat{y}_i)^2 + \\lambda \\sum_{j=1}^{p} \\beta_j^2$$\n",
        "\n",
        "Где:\n",
        "- $y_i$ — истинные значения,\n",
        "- $\\hat{y}_i$ — предсказанные значения,\n",
        "- $\\lambda$ — коэффициент регуляризации."
      ],
      "metadata": {
        "id": "oYY9SBLPkNz4"
      }
    },
    {
      "cell_type": "code",
      "source": [
        "model_l2 = LogisticRegression(C=0.1)  # Регуляризация L2\n",
        "model_l2.fit(X_train, y_train)\n",
        "y_pred_l2 = model_l2.predict(X_test)\n",
        "print(f'Accuracy with L2 regularization: {accuracy_score(y_test, y_pred_l2)}')"
      ],
      "metadata": {
        "colab": {
          "base_uri": "https://localhost:8080/"
        },
        "id": "hFgZYlP5jKOz",
        "outputId": "bd9d5b1d-114e-4443-d9eb-3404fda1ac42"
      },
      "execution_count": null,
      "outputs": [
        {
          "output_type": "stream",
          "name": "stdout",
          "text": [
            "Accuracy with L2 regularization: 0.7792207792207793\n"
          ]
        }
      ]
    },
    {
      "cell_type": "markdown",
      "source": [
        "Заметим, что наша точность **поднялась**!"
      ],
      "metadata": {
        "id": "W0nEMzlkjfqi"
      }
    },
    {
      "cell_type": "markdown",
      "source": [
        "Вопрос: Какие метрики (**кроме accuracy**) можно использовать, чтобы убедиться, что модель **не переобучается**?"
      ],
      "metadata": {
        "id": "nHvIrB6RjrLd"
      }
    },
    {
      "cell_type": "markdown",
      "source": [
        "# ***Проверка модели на адекватность***"
      ],
      "metadata": {
        "id": "Qw6lDC9ulG0U"
      }
    },
    {
      "cell_type": "code",
      "source": [
        "import seaborn as sns\n",
        "feature_names = X_train.columns\n",
        "coef = pd.DataFrame({\n",
        "    'Feature': feature_names,\n",
        "    'Coefficient': model_l2.coef_[0]\n",
        "})\n",
        "\n",
        "# Сортировка по абсолютным значениям коэффициентов\n",
        "coef['Absolute Coefficient'] = coef['Coefficient'].abs()\n",
        "coef_sorted = coef.sort_values(by='Absolute Coefficient', ascending=False)\n",
        "\n",
        "# Визуализация\n",
        "plt.figure(figsize=(10, 6))\n",
        "sns.barplot(x='Absolute Coefficient', y='Feature', data=coef_sorted, palette='viridis')\n",
        "plt.title('Feature Importance (L2 Regularization)')\n",
        "plt.xlabel('Absolute Coefficient')\n",
        "plt.ylabel('Feature')\n",
        "plt.show()"
      ],
      "metadata": {
        "colab": {
          "base_uri": "https://localhost:8080/",
          "height": 564
        },
        "id": "HdON5xGmjfBn",
        "outputId": "33e77369-0578-44a1-c9ad-599d42bf6ec2"
      },
      "execution_count": null,
      "outputs": [
        {
          "output_type": "display_data",
          "data": {
            "text/plain": [
              "<Figure size 1000x600 with 1 Axes>"
            ],
            "image/png": "[encoded data removed]"
          },
          "metadata": {}
        }
      ]
    },
    {
      "cell_type": "markdown",
      "source": [
        "Вопрос:\n",
        "- Если один из коэффициентов **очень большой**, о чём это может говорить?\n",
        "- Какие признаки оказывают **наибольшее влияние** на результат модели?\n",
        "- Как можно проверить, **переоценивает** ли модель важность какого-то признака?"
      ],
      "metadata": {
        "id": "BLE2zauJlViS"
      }
    }
  ]
}