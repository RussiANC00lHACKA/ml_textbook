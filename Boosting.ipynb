{
  "nbformat": 4,
  "nbformat_minor": 0,
  "metadata": {
    "colab": {
      "provenance": [],
      "authorship_tag": "ABX9TyNCDiwyroSiJpmTkQMycBEP",
      "include_colab_link": true
    },
    "kernelspec": {
      "name": "python3",
      "display_name": "Python 3"
    },
    "language_info": {
      "name": "python"
    }
  },
  "cells": [
    {
      "cell_type": "markdown",
      "metadata": {
        "id": "view-in-github",
        "colab_type": "text"
      },
      "source": [
        "<a href=\"https://colab.research.google.com/github/RussiANC00lHACKA/ml_textbook/blob/main/Boosting.ipynb\" target=\"_parent\"><img src=\"https://colab.research.google.com/assets/colab-badge.svg\" alt=\"Open In Colab\"/></a>"
      ]
    },
    {
      "cell_type": "markdown",
      "source": [
        "# ***О задаче***"
      ],
      "metadata": {
        "id": "bsUgoQww2jny"
      }
    },
    {
      "cell_type": "markdown",
      "source": [
        "### Контекст  \n",
        "Важно, чтобы компании, выпускающие кредитные карты, могли распознавать мошеннические транзакции, чтобы клиенты не были обязаны оплачивать товары, которые они не покупали.\n",
        "\n",
        "### Содержание  \n",
        "Данный датасет содержит информацию о транзакциях, совершенных с использованием кредитных карт в сентябре 2013 года европейскими держателями карт.  \n",
        "\n",
        "В этом датасете представлены транзакции за два дня, в ходе которых было зафиксировано 492 случая мошенничества из 284,807 транзакций. Датасет сильно несбалансирован: положительный класс (мошенничество) составляет всего 0.172% от всех транзакций.  \n",
        "\n",
        "Датасет содержит только числовые признаки, которые были получены в результате преобразования методом PCA (анализ главных компонент). К сожалению, из-за вопросов конфиденциальности оригинальные признаки и дополнительная информация о данных недоступны. Признаки V1, V2, … V28 — это главные компоненты, полученные с помощью PCA. Единственными признаками, которые не подвергались преобразованию методом PCA, являются 'Time' и 'Amount'. Признак 'Time' содержит количество секунд, прошедших с момента первой транзакции в датасете до каждой следующей транзакции. Признак 'Amount' — это сумма транзакции, которую можно использовать для учета зависимости от примера при обучении с учетом стоимости ошибок. Признак 'Class' — это целевая переменная, принимающая значение 1 в случае мошенничества и 0 в противном случае.  "
      ],
      "metadata": {
        "id": "liVwGuQ52mSe"
      }
    },
    {
      "cell_type": "code",
      "execution_count": 1,
      "metadata": {
        "colab": {
          "base_uri": "https://localhost:8080/"
        },
        "id": "k6HXhFvpmmHm",
        "outputId": "9a2b378f-47d7-4cab-b10d-b946ecf33202"
      },
      "outputs": [
        {
          "output_type": "stream",
          "name": "stdout",
          "text": [
            "Dataset URL: https://www.kaggle.com/datasets/mlg-ulb/creditcardfraud\n",
            "License(s): DbCL-1.0\n",
            "Downloading creditcardfraud.zip to /content\n",
            " 85% 56.0M/66.0M [00:00<00:00, 160MB/s]\n",
            "100% 66.0M/66.0M [00:00<00:00, 146MB/s]\n"
          ]
        }
      ],
      "source": [
        "! kaggle datasets download mlg-ulb/creditcardfraud"
      ]
    },
    {
      "cell_type": "code",
      "source": [
        "! unzip creditcardfraud.zip"
      ],
      "metadata": {
        "colab": {
          "base_uri": "https://localhost:8080/"
        },
        "id": "dkZJjxytu9mA",
        "outputId": "dd5eadaa-a3c8-4823-a75f-e9aad8aee031"
      },
      "execution_count": 2,
      "outputs": [
        {
          "output_type": "stream",
          "name": "stdout",
          "text": [
            "Archive:  creditcardfraud.zip\n",
            "  inflating: creditcard.csv          \n"
          ]
        }
      ]
    },
    {
      "cell_type": "code",
      "source": [
        "import numpy as np\n",
        "import pandas as pd\n",
        "import seaborn as sns\n",
        "import plotly.express as px\n",
        "from matplotlib import pyplot as plt\n",
        "from sklearn.model_selection import cross_val_score\n",
        "\n",
        "from sklearn import metrics\n",
        "from collections import Counter\n",
        "import warnings\n",
        "warnings.filterwarnings(\"ignore\")"
      ],
      "metadata": {
        "id": "f22cj4v4vJPs"
      },
      "execution_count": 4,
      "outputs": []
    },
    {
      "cell_type": "code",
      "source": [
        "df = pd.read_csv('creditcard.csv')"
      ],
      "metadata": {
        "id": "X5ReMhtpv0M4"
      },
      "execution_count": 5,
      "outputs": []
    },
    {
      "cell_type": "code",
      "source": [
        "df.shape"
      ],
      "metadata": {
        "colab": {
          "base_uri": "https://localhost:8080/"
        },
        "id": "vhhi7VMmv-Ku",
        "outputId": "afec1fe3-38b0-43c0-a087-bc61a892cc91"
      },
      "execution_count": 6,
      "outputs": [
        {
          "output_type": "execute_result",
          "data": {
            "text/plain": [
              "(284807, 31)"
            ]
          },
          "metadata": {},
          "execution_count": 6
        }
      ]
    },
    {
      "cell_type": "code",
      "source": [
        "df.head()"
      ],
      "metadata": {
        "colab": {
          "base_uri": "https://localhost:8080/",
          "height": 255
        },
        "id": "DbQLrnULwcYc",
        "outputId": "43a2d717-1798-414c-eecf-e55883e54fe1"
      },
      "execution_count": 7,
      "outputs": [
        {
          "output_type": "execute_result",
          "data": {
            "text/plain": [
              "   Time        V1        V2        V3        V4        V5        V6        V7  \\\n",
              "0   0.0 -1.359807 -0.072781  2.536347  1.378155 -0.338321  0.462388  0.239599   \n",
              "1   0.0  1.191857  0.266151  0.166480  0.448154  0.060018 -0.082361 -0.078803   \n",
              "2   1.0 -1.358354 -1.340163  1.773209  0.379780 -0.503198  1.800499  0.791461   \n",
              "3   1.0 -0.966272 -0.185226  1.792993 -0.863291 -0.010309  1.247203  0.237609   \n",
              "4   2.0 -1.158233  0.877737  1.548718  0.403034 -0.407193  0.095921  0.592941   \n",
              "\n",
              "         V8        V9  ...       V21       V22       V23       V24       V25  \\\n",
              "0  0.098698  0.363787  ... -0.018307  0.277838 -0.110474  0.066928  0.128539   \n",
              "1  0.085102 -0.255425  ... -0.225775 -0.638672  0.101288 -0.339846  0.167170   \n",
              "2  0.247676 -1.514654  ...  0.247998  0.771679  0.909412 -0.689281 -0.327642   \n",
              "3  0.377436 -1.387024  ... -0.108300  0.005274 -0.190321 -1.175575  0.647376   \n",
              "4 -0.270533  0.817739  ... -0.009431  0.798278 -0.137458  0.141267 -0.206010   \n",
              "\n",
              "        V26       V27       V28  Amount  Class  \n",
              "0 -0.189115  0.133558 -0.021053  149.62      0  \n",
              "1  0.125895 -0.008983  0.014724    2.69      0  \n",
              "2 -0.139097 -0.055353 -0.059752  378.66      0  \n",
              "3 -0.221929  0.062723  0.061458  123.50      0  \n",
              "4  0.502292  0.219422  0.215153   69.99      0  \n",
              "\n",
              "[5 rows x 31 columns]"
            ],
            "text/html": [
              "\n",
              "  <div id=\"df-3fa04bd3-2aa6-461a-a2a4-e41e3d9e3aaa\" class=\"colab-df-container\">\n",
              "    <div>\n",
              "<style scoped>\n",
              "    .dataframe tbody tr th:only-of-type {\n",
              "        vertical-align: middle;\n",
              "    }\n",
              "\n",
              "    .dataframe tbody tr th {\n",
              "        vertical-align: top;\n",
              "    }\n",
              "\n",
              "    .dataframe thead th {\n",
              "        text-align: right;\n",
              "    }\n",
              "</style>\n",
              "<table border=\"1\" class=\"dataframe\">\n",
              "  <thead>\n",
              "    <tr style=\"text-align: right;\">\n",
              "      <th></th>\n",
              "      <th>Time</th>\n",
              "      <th>V1</th>\n",
              "      <th>V2</th>\n",
              "      <th>V3</th>\n",
              "      <th>V4</th>\n",
              "      <th>V5</th>\n",
              "      <th>V6</th>\n",
              "      <th>V7</th>\n",
              "      <th>V8</th>\n",
              "      <th>V9</th>\n",
              "      <th>...</th>\n",
              "      <th>V21</th>\n",
              "      <th>V22</th>\n",
              "      <th>V23</th>\n",
              "      <th>V24</th>\n",
              "      <th>V25</th>\n",
              "      <th>V26</th>\n",
              "      <th>V27</th>\n",
              "      <th>V28</th>\n",
              "      <th>Amount</th>\n",
              "      <th>Class</th>\n",
              "    </tr>\n",
              "  </thead>\n",
              "  <tbody>\n",
              "    <tr>\n",
              "      <th>0</th>\n",
              "      <td>0.0</td>\n",
              "      <td>-1.359807</td>\n",
              "      <td>-0.072781</td>\n",
              "      <td>2.536347</td>\n",
              "      <td>1.378155</td>\n",
              "      <td>-0.338321</td>\n",
              "      <td>0.462388</td>\n",
              "      <td>0.239599</td>\n",
              "      <td>0.098698</td>\n",
              "      <td>0.363787</td>\n",
              "      <td>...</td>\n",
              "      <td>-0.018307</td>\n",
              "      <td>0.277838</td>\n",
              "      <td>-0.110474</td>\n",
              "      <td>0.066928</td>\n",
              "      <td>0.128539</td>\n",
              "      <td>-0.189115</td>\n",
              "      <td>0.133558</td>\n",
              "      <td>-0.021053</td>\n",
              "      <td>149.62</td>\n",
              "      <td>0</td>\n",
              "    </tr>\n",
              "    <tr>\n",
              "      <th>1</th>\n",
              "      <td>0.0</td>\n",
              "      <td>1.191857</td>\n",
              "      <td>0.266151</td>\n",
              "      <td>0.166480</td>\n",
              "      <td>0.448154</td>\n",
              "      <td>0.060018</td>\n",
              "      <td>-0.082361</td>\n",
              "      <td>-0.078803</td>\n",
              "      <td>0.085102</td>\n",
              "      <td>-0.255425</td>\n",
              "      <td>...</td>\n",
              "      <td>-0.225775</td>\n",
              "      <td>-0.638672</td>\n",
              "      <td>0.101288</td>\n",
              "      <td>-0.339846</td>\n",
              "      <td>0.167170</td>\n",
              "      <td>0.125895</td>\n",
              "      <td>-0.008983</td>\n",
              "      <td>0.014724</td>\n",
              "      <td>2.69</td>\n",
              "      <td>0</td>\n",
              "    </tr>\n",
              "    <tr>\n",
              "      <th>2</th>\n",
              "      <td>1.0</td>\n",
              "      <td>-1.358354</td>\n",
              "      <td>-1.340163</td>\n",
              "      <td>1.773209</td>\n",
              "      <td>0.379780</td>\n",
              "      <td>-0.503198</td>\n",
              "      <td>1.800499</td>\n",
              "      <td>0.791461</td>\n",
              "      <td>0.247676</td>\n",
              "      <td>-1.514654</td>\n",
              "      <td>...</td>\n",
              "      <td>0.247998</td>\n",
              "      <td>0.771679</td>\n",
              "      <td>0.909412</td>\n",
              "      <td>-0.689281</td>\n",
              "      <td>-0.327642</td>\n",
              "      <td>-0.139097</td>\n",
              "      <td>-0.055353</td>\n",
              "      <td>-0.059752</td>\n",
              "      <td>378.66</td>\n",
              "      <td>0</td>\n",
              "    </tr>\n",
              "    <tr>\n",
              "      <th>3</th>\n",
              "      <td>1.0</td>\n",
              "      <td>-0.966272</td>\n",
              "      <td>-0.185226</td>\n",
              "      <td>1.792993</td>\n",
              "      <td>-0.863291</td>\n",
              "      <td>-0.010309</td>\n",
              "      <td>1.247203</td>\n",
              "      <td>0.237609</td>\n",
              "      <td>0.377436</td>\n",
              "      <td>-1.387024</td>\n",
              "      <td>...</td>\n",
              "      <td>-0.108300</td>\n",
              "      <td>0.005274</td>\n",
              "      <td>-0.190321</td>\n",
              "      <td>-1.175575</td>\n",
              "      <td>0.647376</td>\n",
              "      <td>-0.221929</td>\n",
              "      <td>0.062723</td>\n",
              "      <td>0.061458</td>\n",
              "      <td>123.50</td>\n",
              "      <td>0</td>\n",
              "    </tr>\n",
              "    <tr>\n",
              "      <th>4</th>\n",
              "      <td>2.0</td>\n",
              "      <td>-1.158233</td>\n",
              "      <td>0.877737</td>\n",
              "      <td>1.548718</td>\n",
              "      <td>0.403034</td>\n",
              "      <td>-0.407193</td>\n",
              "      <td>0.095921</td>\n",
              "      <td>0.592941</td>\n",
              "      <td>-0.270533</td>\n",
              "      <td>0.817739</td>\n",
              "      <td>...</td>\n",
              "      <td>-0.009431</td>\n",
              "      <td>0.798278</td>\n",
              "      <td>-0.137458</td>\n",
              "      <td>0.141267</td>\n",
              "      <td>-0.206010</td>\n",
              "      <td>0.502292</td>\n",
              "      <td>0.219422</td>\n",
              "      <td>0.215153</td>\n",
              "      <td>69.99</td>\n",
              "      <td>0</td>\n",
              "    </tr>\n",
              "  </tbody>\n",
              "</table>\n",
              "<p>5 rows × 31 columns</p>\n",
              "</div>\n",
              "    <div class=\"colab-df-buttons\">\n",
              "\n",
              "  <div class=\"colab-df-container\">\n",
              "    <button class=\"colab-df-convert\" onclick=\"convertToInteractive('df-3fa04bd3-2aa6-461a-a2a4-e41e3d9e3aaa')\"\n",
              "            title=\"Convert this dataframe to an interactive table.\"\n",
              "            style=\"display:none;\">\n",
              "\n",
              "  <svg xmlns=\"http://www.w3.org/2000/svg\" height=\"24px\" viewBox=\"0 -960 960 960\">\n",
              "    <path d=\"M120-120v-720h720v720H120Zm60-500h600v-160H180v160Zm220 220h160v-160H400v160Zm0 220h160v-160H400v160ZM180-400h160v-160H180v160Zm440 0h160v-160H620v160ZM180-180h160v-160H180v160Zm440 0h160v-160H620v160Z\"/>\n",
              "  </svg>\n",
              "    </button>\n",
              "\n",
              "  <style>\n",
              "    .colab-df-container {\n",
              "      display:flex;\n",
              "      gap: 12px;\n",
              "    }\n",
              "\n",
              "    .colab-df-convert {\n",
              "      background-color: #E8F0FE;\n",
              "      border: none;\n",
              "      border-radius: 50%;\n",
              "      cursor: pointer;\n",
              "      display: none;\n",
              "      fill: #1967D2;\n",
              "      height: 32px;\n",
              "      padding: 0 0 0 0;\n",
              "      width: 32px;\n",
              "    }\n",
              "\n",
              "    .colab-df-convert:hover {\n",
              "      background-color: #E2EBFA;\n",
              "      box-shadow: 0px 1px 2px rgba(60, 64, 67, 0.3), 0px 1px 3px 1px rgba(60, 64, 67, 0.15);\n",
              "      fill: #174EA6;\n",
              "    }\n",
              "\n",
              "    .colab-df-buttons div {\n",
              "      margin-bottom: 4px;\n",
              "    }\n",
              "\n",
              "    [theme=dark] .colab-df-convert {\n",
              "      background-color: #3B4455;\n",
              "      fill: #D2E3FC;\n",
              "    }\n",
              "\n",
              "    [theme=dark] .colab-df-convert:hover {\n",
              "      background-color: #434B5C;\n",
              "      box-shadow: 0px 1px 3px 1px rgba(0, 0, 0, 0.15);\n",
              "      filter: drop-shadow(0px 1px 2px rgba(0, 0, 0, 0.3));\n",
              "      fill: #FFFFFF;\n",
              "    }\n",
              "  </style>\n",
              "\n",
              "    <script>\n",
              "      const buttonEl =\n",
              "        document.querySelector('#df-3fa04bd3-2aa6-461a-a2a4-e41e3d9e3aaa button.colab-df-convert');\n",
              "      buttonEl.style.display =\n",
              "        google.colab.kernel.accessAllowed ? 'block' : 'none';\n",
              "\n",
              "      async function convertToInteractive(key) {\n",
              "        const element = document.querySelector('#df-3fa04bd3-2aa6-461a-a2a4-e41e3d9e3aaa');\n",
              "        const dataTable =\n",
              "          await google.colab.kernel.invokeFunction('convertToInteractive',\n",
              "                                                    [key], {});\n",
              "        if (!dataTable) return;\n",
              "\n",
              "        const docLinkHtml = 'Like what you see? Visit the ' +\n",
              "          '<a target=\"_blank\" href=https://colab.research.google.com/notebooks/data_table.ipynb>data table notebook</a>'\n",
              "          + ' to learn more about interactive tables.';\n",
              "        element.innerHTML = '';\n",
              "        dataTable['output_type'] = 'display_data';\n",
              "        await google.colab.output.renderOutput(dataTable, element);\n",
              "        const docLink = document.createElement('div');\n",
              "        docLink.innerHTML = docLinkHtml;\n",
              "        element.appendChild(docLink);\n",
              "      }\n",
              "    </script>\n",
              "  </div>\n",
              "\n",
              "\n",
              "<div id=\"df-ba03d90a-303d-4735-a1d3-f31b4dee39eb\">\n",
              "  <button class=\"colab-df-quickchart\" onclick=\"quickchart('df-ba03d90a-303d-4735-a1d3-f31b4dee39eb')\"\n",
              "            title=\"Suggest charts\"\n",
              "            style=\"display:none;\">\n",
              "\n",
              "<svg xmlns=\"http://www.w3.org/2000/svg\" height=\"24px\"viewBox=\"0 0 24 24\"\n",
              "     width=\"24px\">\n",
              "    <g>\n",
              "        <path d=\"M19 3H5c-1.1 0-2 .9-2 2v14c0 1.1.9 2 2 2h14c1.1 0 2-.9 2-2V5c0-1.1-.9-2-2-2zM9 17H7v-7h2v7zm4 0h-2V7h2v10zm4 0h-2v-4h2v4z\"/>\n",
              "    </g>\n",
              "</svg>\n",
              "  </button>\n",
              "\n",
              "<style>\n",
              "  .colab-df-quickchart {\n",
              "      --bg-color: #E8F0FE;\n",
              "      --fill-color: #1967D2;\n",
              "      --hover-bg-color: #E2EBFA;\n",
              "      --hover-fill-color: #174EA6;\n",
              "      --disabled-fill-color: #AAA;\n",
              "      --disabled-bg-color: #DDD;\n",
              "  }\n",
              "\n",
              "  [theme=dark] .colab-df-quickchart {\n",
              "      --bg-color: #3B4455;\n",
              "      --fill-color: #D2E3FC;\n",
              "      --hover-bg-color: #434B5C;\n",
              "      --hover-fill-color: #FFFFFF;\n",
              "      --disabled-bg-color: #3B4455;\n",
              "      --disabled-fill-color: #666;\n",
              "  }\n",
              "\n",
              "  .colab-df-quickchart {\n",
              "    background-color: var(--bg-color);\n",
              "    border: none;\n",
              "    border-radius: 50%;\n",
              "    cursor: pointer;\n",
              "    display: none;\n",
              "    fill: var(--fill-color);\n",
              "    height: 32px;\n",
              "    padding: 0;\n",
              "    width: 32px;\n",
              "  }\n",
              "\n",
              "  .colab-df-quickchart:hover {\n",
              "    background-color: var(--hover-bg-color);\n",
              "    box-shadow: 0 1px 2px rgba(60, 64, 67, 0.3), 0 1px 3px 1px rgba(60, 64, 67, 0.15);\n",
              "    fill: var(--button-hover-fill-color);\n",
              "  }\n",
              "\n",
              "  .colab-df-quickchart-complete:disabled,\n",
              "  .colab-df-quickchart-complete:disabled:hover {\n",
              "    background-color: var(--disabled-bg-color);\n",
              "    fill: var(--disabled-fill-color);\n",
              "    box-shadow: none;\n",
              "  }\n",
              "\n",
              "  .colab-df-spinner {\n",
              "    border: 2px solid var(--fill-color);\n",
              "    border-color: transparent;\n",
              "    border-bottom-color: var(--fill-color);\n",
              "    animation:\n",
              "      spin 1s steps(1) infinite;\n",
              "  }\n",
              "\n",
              "  @keyframes spin {\n",
              "    0% {\n",
              "      border-color: transparent;\n",
              "      border-bottom-color: var(--fill-color);\n",
              "      border-left-color: var(--fill-color);\n",
              "    }\n",
              "    20% {\n",
              "      border-color: transparent;\n",
              "      border-left-color: var(--fill-color);\n",
              "      border-top-color: var(--fill-color);\n",
              "    }\n",
              "    30% {\n",
              "      border-color: transparent;\n",
              "      border-left-color: var(--fill-color);\n",
              "      border-top-color: var(--fill-color);\n",
              "      border-right-color: var(--fill-color);\n",
              "    }\n",
              "    40% {\n",
              "      border-color: transparent;\n",
              "      border-right-color: var(--fill-color);\n",
              "      border-top-color: var(--fill-color);\n",
              "    }\n",
              "    60% {\n",
              "      border-color: transparent;\n",
              "      border-right-color: var(--fill-color);\n",
              "    }\n",
              "    80% {\n",
              "      border-color: transparent;\n",
              "      border-right-color: var(--fill-color);\n",
              "      border-bottom-color: var(--fill-color);\n",
              "    }\n",
              "    90% {\n",
              "      border-color: transparent;\n",
              "      border-bottom-color: var(--fill-color);\n",
              "    }\n",
              "  }\n",
              "</style>\n",
              "\n",
              "  <script>\n",
              "    async function quickchart(key) {\n",
              "      const quickchartButtonEl =\n",
              "        document.querySelector('#' + key + ' button');\n",
              "      quickchartButtonEl.disabled = true;  // To prevent multiple clicks.\n",
              "      quickchartButtonEl.classList.add('colab-df-spinner');\n",
              "      try {\n",
              "        const charts = await google.colab.kernel.invokeFunction(\n",
              "            'suggestCharts', [key], {});\n",
              "      } catch (error) {\n",
              "        console.error('Error during call to suggestCharts:', error);\n",
              "      }\n",
              "      quickchartButtonEl.classList.remove('colab-df-spinner');\n",
              "      quickchartButtonEl.classList.add('colab-df-quickchart-complete');\n",
              "    }\n",
              "    (() => {\n",
              "      let quickchartButtonEl =\n",
              "        document.querySelector('#df-ba03d90a-303d-4735-a1d3-f31b4dee39eb button');\n",
              "      quickchartButtonEl.style.display =\n",
              "        google.colab.kernel.accessAllowed ? 'block' : 'none';\n",
              "    })();\n",
              "  </script>\n",
              "</div>\n",
              "    </div>\n",
              "  </div>\n"
            ],
            "application/vnd.google.colaboratory.intrinsic+json": {
              "type": "dataframe",
              "variable_name": "df"
            }
          },
          "metadata": {},
          "execution_count": 7
        }
      ]
    },
    {
      "cell_type": "markdown",
      "source": [
        "# ***Теория для дальнейшего понимания вопроса!***"
      ],
      "metadata": {
        "id": "ilU0204u02FP"
      }
    },
    {
      "cell_type": "markdown",
      "source": [
        "Несбалансированные данные — это ситуация, чаще всего встречающаяся в задачах классификации, когда один из целевых классов значительно преобладает в выборке. Такие наборы данных характеризуются сильным дисбалансом в распределении классов, например, 1:100 или 1:1000 наблюдений в классе меньшинства по сравнению с классом большинства.\n",
        "\n",
        "Проблема дисбаланса классов возникает в различных сферах, например:  \n",
        "\n",
        "- **Обнаружение мошенничества**: подавляющее большинство транзакций относятся к классу «Не мошенничество».  \n",
        "- **Медицинская диагностика**: большинство людей в выборке оказываются здоровыми.  \n",
        "- **Анализ оттока подписчиков**: большинство пользователей остаются с сервисом, что формирует класс «Без оттока».  \n",
        "- **Реклама и прогнозирование кликов**: данные о кликах обычно имеют крайне низкий уровень кликабельности.  \n",
        "\n",
        "Существуют различные методы для устранения дисбаланса классов перед обучением модели, в том числе:  \n",
        "\n",
        "- Увеличение числа наблюдений для класса меньшинства, используя знания о предметной области.  \n",
        "- Модификация функции потерь, чтобы ошибки для класса меньшинства наказывались сильнее.  \n",
        "- Увеличение выборки (oversampling) за счет создания или дублирования данных для класса меньшинства.  \n",
        "- Уменьшение выборки (undersampling) за счет удаления или объединения данных для класса большинства.  \n",
        "- Комбинация нескольких подходов.  \n",
        "\n",
        "При увеличении выборки создаются новые или дублируются существующие примеры для класса меньшинства, а при уменьшении выборки удаляются или объединяются данные класса большинства. Несмотря на то, что увеличение выборки используется чаще всего, оно не всегда является лучшим решением."
      ],
      "metadata": {
        "id": "vrDqa0gr07T9"
      }
    },
    {
      "cell_type": "markdown",
      "source": [
        "Пример: ![Текст ссылки](https://miro.medium.com/v2/resize:fit:1400/format:webp/1*miAWYUJ7sgWaRHCZMdP2OQ.png)"
      ],
      "metadata": {
        "id": "lJx03aif1VP4"
      }
    },
    {
      "cell_type": "code",
      "source": [
        "labels=[\"Genuine\",\"Class\"]\n",
        "\n",
        "fraud_or_not = df[\"Class\"].value_counts().tolist()\n",
        "values = [fraud_or_not[0], fraud_or_not[1]]\n",
        "\n",
        "fig = px.pie(values=df['Class'].value_counts(), names=labels , width=700, height=400, color_discrete_sequence=[\"skyblue\",\"black\"]\n",
        "             ,title=\"Fraud vs Genuine transactions\")\n",
        "fig.show()"
      ],
      "metadata": {
        "colab": {
          "base_uri": "https://localhost:8080/",
          "height": 417
        },
        "id": "hP-ByRimv_XC",
        "outputId": "c37c2e46-013e-49bb-ef2b-c3c49b12647d"
      },
      "execution_count": 8,
      "outputs": [
        {
          "output_type": "display_data",
          "data": {
            "text/html": [
              "<html>\n",
              "<head><meta charset=\"utf-8\" /></head>\n",
              "<body>\n",
              "    <div>            <script src=\"https://cdnjs.cloudflare.com/ajax/libs/mathjax/2.7.5/MathJax.js?config=TeX-AMS-MML_SVG\"></script><script type=\"text/javascript\">if (window.MathJax && window.MathJax.Hub && window.MathJax.Hub.Config) {window.MathJax.Hub.Config({SVG: {font: \"STIX-Web\"}});}</script>                <script type=\"text/javascript\">window.PlotlyConfig = {MathJaxConfig: 'local'};</script>\n",
              "        <script charset=\"utf-8\" src=\"https://cdn.plot.ly/plotly-2.35.2.min.js\"></script>                <div id=\"719a19d8-0e1b-457f-85ac-05514d4ccbf1\" class=\"plotly-graph-div\" style=\"height:400px; width:700px;\"></div>            <script type=\"text/javascript\">                                    window.PLOTLYENV=window.PLOTLYENV || {};                                    if (document.getElementById(\"719a19d8-0e1b-457f-85ac-05514d4ccbf1\")) {                    Plotly.newPlot(                        \"719a19d8-0e1b-457f-85ac-05514d4ccbf1\",                        [{\"domain\":{\"x\":[0.0,1.0],\"y\":[0.0,1.0]},\"hovertemplate\":\"label=%{label}\\u003cbr\\u003evalue=%{value}\\u003cextra\\u003e\\u003c\\u002fextra\\u003e\",\"labels\":[\"Genuine\",\"Class\"],\"legendgroup\":\"\",\"name\":\"\",\"showlegend\":true,\"values\":[284315,492],\"type\":\"pie\"}],                        {\"template\":{\"data\":{\"histogram2dcontour\":[{\"type\":\"histogram2dcontour\",\"colorbar\":{\"outlinewidth\":0,\"ticks\":\"\"},\"colorscale\":[[0.0,\"#0d0887\"],[0.1111111111111111,\"#46039f\"],[0.2222222222222222,\"#7201a8\"],[0.3333333333333333,\"#9c179e\"],[0.4444444444444444,\"#bd3786\"],[0.5555555555555556,\"#d8576b\"],[0.6666666666666666,\"#ed7953\"],[0.7777777777777778,\"#fb9f3a\"],[0.8888888888888888,\"#fdca26\"],[1.0,\"#f0f921\"]]}],\"choropleth\":[{\"type\":\"choropleth\",\"colorbar\":{\"outlinewidth\":0,\"ticks\":\"\"}}],\"histogram2d\":[{\"type\":\"histogram2d\",\"colorbar\":{\"outlinewidth\":0,\"ticks\":\"\"},\"colorscale\":[[0.0,\"#0d0887\"],[0.1111111111111111,\"#46039f\"],[0.2222222222222222,\"#7201a8\"],[0.3333333333333333,\"#9c179e\"],[0.4444444444444444,\"#bd3786\"],[0.5555555555555556,\"#d8576b\"],[0.6666666666666666,\"#ed7953\"],[0.7777777777777778,\"#fb9f3a\"],[0.8888888888888888,\"#fdca26\"],[1.0,\"#f0f921\"]]}],\"heatmap\":[{\"type\":\"heatmap\",\"colorbar\":{\"outlinewidth\":0,\"ticks\":\"\"},\"colorscale\":[[0.0,\"#0d0887\"],[0.1111111111111111,\"#46039f\"],[0.2222222222222222,\"#7201a8\"],[0.3333333333333333,\"#9c179e\"],[0.4444444444444444,\"#bd3786\"],[0.5555555555555556,\"#d8576b\"],[0.6666666666666666,\"#ed7953\"],[0.7777777777777778,\"#fb9f3a\"],[0.8888888888888888,\"#fdca26\"],[1.0,\"#f0f921\"]]}],\"heatmapgl\":[{\"type\":\"heatmapgl\",\"colorbar\":{\"outlinewidth\":0,\"ticks\":\"\"},\"colorscale\":[[0.0,\"#0d0887\"],[0.1111111111111111,\"#46039f\"],[0.2222222222222222,\"#7201a8\"],[0.3333333333333333,\"#9c179e\"],[0.4444444444444444,\"#bd3786\"],[0.5555555555555556,\"#d8576b\"],[0.6666666666666666,\"#ed7953\"],[0.7777777777777778,\"#fb9f3a\"],[0.8888888888888888,\"#fdca26\"],[1.0,\"#f0f921\"]]}],\"contourcarpet\":[{\"type\":\"contourcarpet\",\"colorbar\":{\"outlinewidth\":0,\"ticks\":\"\"}}],\"contour\":[{\"type\":\"contour\",\"colorbar\":{\"outlinewidth\":0,\"ticks\":\"\"},\"colorscale\":[[0.0,\"#0d0887\"],[0.1111111111111111,\"#46039f\"],[0.2222222222222222,\"#7201a8\"],[0.3333333333333333,\"#9c179e\"],[0.4444444444444444,\"#bd3786\"],[0.5555555555555556,\"#d8576b\"],[0.6666666666666666,\"#ed7953\"],[0.7777777777777778,\"#fb9f3a\"],[0.8888888888888888,\"#fdca26\"],[1.0,\"#f0f921\"]]}],\"surface\":[{\"type\":\"surface\",\"colorbar\":{\"outlinewidth\":0,\"ticks\":\"\"},\"colorscale\":[[0.0,\"#0d0887\"],[0.1111111111111111,\"#46039f\"],[0.2222222222222222,\"#7201a8\"],[0.3333333333333333,\"#9c179e\"],[0.4444444444444444,\"#bd3786\"],[0.5555555555555556,\"#d8576b\"],[0.6666666666666666,\"#ed7953\"],[0.7777777777777778,\"#fb9f3a\"],[0.8888888888888888,\"#fdca26\"],[1.0,\"#f0f921\"]]}],\"mesh3d\":[{\"type\":\"mesh3d\",\"colorbar\":{\"outlinewidth\":0,\"ticks\":\"\"}}],\"scatter\":[{\"fillpattern\":{\"fillmode\":\"overlay\",\"size\":10,\"solidity\":0.2},\"type\":\"scatter\"}],\"parcoords\":[{\"type\":\"parcoords\",\"line\":{\"colorbar\":{\"outlinewidth\":0,\"ticks\":\"\"}}}],\"scatterpolargl\":[{\"type\":\"scatterpolargl\",\"marker\":{\"colorbar\":{\"outlinewidth\":0,\"ticks\":\"\"}}}],\"bar\":[{\"error_x\":{\"color\":\"#2a3f5f\"},\"error_y\":{\"color\":\"#2a3f5f\"},\"marker\":{\"line\":{\"color\":\"#E5ECF6\",\"width\":0.5},\"pattern\":{\"fillmode\":\"overlay\",\"size\":10,\"solidity\":0.2}},\"type\":\"bar\"}],\"scattergeo\":[{\"type\":\"scattergeo\",\"marker\":{\"colorbar\":{\"outlinewidth\":0,\"ticks\":\"\"}}}],\"scatterpolar\":[{\"type\":\"scatterpolar\",\"marker\":{\"colorbar\":{\"outlinewidth\":0,\"ticks\":\"\"}}}],\"histogram\":[{\"marker\":{\"pattern\":{\"fillmode\":\"overlay\",\"size\":10,\"solidity\":0.2}},\"type\":\"histogram\"}],\"scattergl\":[{\"type\":\"scattergl\",\"marker\":{\"colorbar\":{\"outlinewidth\":0,\"ticks\":\"\"}}}],\"scatter3d\":[{\"type\":\"scatter3d\",\"line\":{\"colorbar\":{\"outlinewidth\":0,\"ticks\":\"\"}},\"marker\":{\"colorbar\":{\"outlinewidth\":0,\"ticks\":\"\"}}}],\"scattermapbox\":[{\"type\":\"scattermapbox\",\"marker\":{\"colorbar\":{\"outlinewidth\":0,\"ticks\":\"\"}}}],\"scatterternary\":[{\"type\":\"scatterternary\",\"marker\":{\"colorbar\":{\"outlinewidth\":0,\"ticks\":\"\"}}}],\"scattercarpet\":[{\"type\":\"scattercarpet\",\"marker\":{\"colorbar\":{\"outlinewidth\":0,\"ticks\":\"\"}}}],\"carpet\":[{\"aaxis\":{\"endlinecolor\":\"#2a3f5f\",\"gridcolor\":\"white\",\"linecolor\":\"white\",\"minorgridcolor\":\"white\",\"startlinecolor\":\"#2a3f5f\"},\"baxis\":{\"endlinecolor\":\"#2a3f5f\",\"gridcolor\":\"white\",\"linecolor\":\"white\",\"minorgridcolor\":\"white\",\"startlinecolor\":\"#2a3f5f\"},\"type\":\"carpet\"}],\"table\":[{\"cells\":{\"fill\":{\"color\":\"#EBF0F8\"},\"line\":{\"color\":\"white\"}},\"header\":{\"fill\":{\"color\":\"#C8D4E3\"},\"line\":{\"color\":\"white\"}},\"type\":\"table\"}],\"barpolar\":[{\"marker\":{\"line\":{\"color\":\"#E5ECF6\",\"width\":0.5},\"pattern\":{\"fillmode\":\"overlay\",\"size\":10,\"solidity\":0.2}},\"type\":\"barpolar\"}],\"pie\":[{\"automargin\":true,\"type\":\"pie\"}]},\"layout\":{\"autotypenumbers\":\"strict\",\"colorway\":[\"#636efa\",\"#EF553B\",\"#00cc96\",\"#ab63fa\",\"#FFA15A\",\"#19d3f3\",\"#FF6692\",\"#B6E880\",\"#FF97FF\",\"#FECB52\"],\"font\":{\"color\":\"#2a3f5f\"},\"hovermode\":\"closest\",\"hoverlabel\":{\"align\":\"left\"},\"paper_bgcolor\":\"white\",\"plot_bgcolor\":\"#E5ECF6\",\"polar\":{\"bgcolor\":\"#E5ECF6\",\"angularaxis\":{\"gridcolor\":\"white\",\"linecolor\":\"white\",\"ticks\":\"\"},\"radialaxis\":{\"gridcolor\":\"white\",\"linecolor\":\"white\",\"ticks\":\"\"}},\"ternary\":{\"bgcolor\":\"#E5ECF6\",\"aaxis\":{\"gridcolor\":\"white\",\"linecolor\":\"white\",\"ticks\":\"\"},\"baxis\":{\"gridcolor\":\"white\",\"linecolor\":\"white\",\"ticks\":\"\"},\"caxis\":{\"gridcolor\":\"white\",\"linecolor\":\"white\",\"ticks\":\"\"}},\"coloraxis\":{\"colorbar\":{\"outlinewidth\":0,\"ticks\":\"\"}},\"colorscale\":{\"sequential\":[[0.0,\"#0d0887\"],[0.1111111111111111,\"#46039f\"],[0.2222222222222222,\"#7201a8\"],[0.3333333333333333,\"#9c179e\"],[0.4444444444444444,\"#bd3786\"],[0.5555555555555556,\"#d8576b\"],[0.6666666666666666,\"#ed7953\"],[0.7777777777777778,\"#fb9f3a\"],[0.8888888888888888,\"#fdca26\"],[1.0,\"#f0f921\"]],\"sequentialminus\":[[0.0,\"#0d0887\"],[0.1111111111111111,\"#46039f\"],[0.2222222222222222,\"#7201a8\"],[0.3333333333333333,\"#9c179e\"],[0.4444444444444444,\"#bd3786\"],[0.5555555555555556,\"#d8576b\"],[0.6666666666666666,\"#ed7953\"],[0.7777777777777778,\"#fb9f3a\"],[0.8888888888888888,\"#fdca26\"],[1.0,\"#f0f921\"]],\"diverging\":[[0,\"#8e0152\"],[0.1,\"#c51b7d\"],[0.2,\"#de77ae\"],[0.3,\"#f1b6da\"],[0.4,\"#fde0ef\"],[0.5,\"#f7f7f7\"],[0.6,\"#e6f5d0\"],[0.7,\"#b8e186\"],[0.8,\"#7fbc41\"],[0.9,\"#4d9221\"],[1,\"#276419\"]]},\"xaxis\":{\"gridcolor\":\"white\",\"linecolor\":\"white\",\"ticks\":\"\",\"title\":{\"standoff\":15},\"zerolinecolor\":\"white\",\"automargin\":true,\"zerolinewidth\":2},\"yaxis\":{\"gridcolor\":\"white\",\"linecolor\":\"white\",\"ticks\":\"\",\"title\":{\"standoff\":15},\"zerolinecolor\":\"white\",\"automargin\":true,\"zerolinewidth\":2},\"scene\":{\"xaxis\":{\"backgroundcolor\":\"#E5ECF6\",\"gridcolor\":\"white\",\"linecolor\":\"white\",\"showbackground\":true,\"ticks\":\"\",\"zerolinecolor\":\"white\",\"gridwidth\":2},\"yaxis\":{\"backgroundcolor\":\"#E5ECF6\",\"gridcolor\":\"white\",\"linecolor\":\"white\",\"showbackground\":true,\"ticks\":\"\",\"zerolinecolor\":\"white\",\"gridwidth\":2},\"zaxis\":{\"backgroundcolor\":\"#E5ECF6\",\"gridcolor\":\"white\",\"linecolor\":\"white\",\"showbackground\":true,\"ticks\":\"\",\"zerolinecolor\":\"white\",\"gridwidth\":2}},\"shapedefaults\":{\"line\":{\"color\":\"#2a3f5f\"}},\"annotationdefaults\":{\"arrowcolor\":\"#2a3f5f\",\"arrowhead\":0,\"arrowwidth\":1},\"geo\":{\"bgcolor\":\"white\",\"landcolor\":\"#E5ECF6\",\"subunitcolor\":\"white\",\"showland\":true,\"showlakes\":true,\"lakecolor\":\"white\"},\"title\":{\"x\":0.05},\"mapbox\":{\"style\":\"light\"}}},\"legend\":{\"tracegroupgap\":0},\"title\":{\"text\":\"Fraud vs Genuine transactions\"},\"piecolorway\":[\"skyblue\",\"black\"],\"height\":400,\"width\":700},                        {\"responsive\": true}                    ).then(function(){\n",
              "                            \n",
              "var gd = document.getElementById('719a19d8-0e1b-457f-85ac-05514d4ccbf1');\n",
              "var x = new MutationObserver(function (mutations, observer) {{\n",
              "        var display = window.getComputedStyle(gd).display;\n",
              "        if (!display || display === 'none') {{\n",
              "            console.log([gd, 'removed!']);\n",
              "            Plotly.purge(gd);\n",
              "            observer.disconnect();\n",
              "        }}\n",
              "}});\n",
              "\n",
              "// Listen for the removal of the full notebook cells\n",
              "var notebookContainer = gd.closest('#notebook-container');\n",
              "if (notebookContainer) {{\n",
              "    x.observe(notebookContainer, {childList: true});\n",
              "}}\n",
              "\n",
              "// Listen for the clearing of the current output cell\n",
              "var outputEl = gd.closest('.output');\n",
              "if (outputEl) {{\n",
              "    x.observe(outputEl, {childList: true});\n",
              "}}\n",
              "\n",
              "                        })                };                            </script>        </div>\n",
              "</body>\n",
              "</html>"
            ]
          },
          "metadata": {}
        }
      ]
    },
    {
      "cell_type": "code",
      "source": [
        "plt.figure(figsize=(3,4));\n",
        "ax = sns.countplot(x='Class',data=df,palette=\"pastel\")\n",
        "for i in ax.containers:\n",
        "    ax.bar_label(i,)"
      ],
      "metadata": {
        "colab": {
          "base_uri": "https://localhost:8080/",
          "height": 388
        },
        "id": "jpd0D9kJwFC8",
        "outputId": "1a37a5ab-17e3-4649-9cc5-fd93368f53d2"
      },
      "execution_count": 11,
      "outputs": [
        {
          "output_type": "display_data",
          "data": {
            "text/plain": [
              "<Figure size 300x400 with 1 Axes>"
            ],
            "image/png": "[encoded data removed]"
          },
          "metadata": {}
        }
      ]
    },
    {
      "cell_type": "code",
      "source": [
        "print('Genuine:', round(df['Class'].value_counts()[0]/len(df) * 100,2), '% от датасета')\n",
        "print('Frauds:', round(df['Class'].value_counts()[1]/len(df) * 100,2), '% от датасета')"
      ],
      "metadata": {
        "colab": {
          "base_uri": "https://localhost:8080/"
        },
        "id": "hS9hWveuw2NA",
        "outputId": "69ad114f-18e1-4839-d95a-b1534291b5c5"
      },
      "execution_count": 21,
      "outputs": [
        {
          "output_type": "stream",
          "name": "stdout",
          "text": [
            "Genuine: 99.83 % от датасета\n",
            "Frauds: 0.17 % от датасета\n"
          ]
        }
      ]
    },
    {
      "cell_type": "markdown",
      "source": [
        "Как по графикам можно заметить, мы занимаемся задачей с **несбалансированными данными** с экстремальными пропорциями, например, `99:1` или `99.9:0.1.`"
      ],
      "metadata": {
        "id": "otiIiQbt1B_Y"
      }
    },
    {
      "cell_type": "markdown",
      "source": [
        "Мы будем использовать именно бустинг с этими данными. **Но почему его?**"
      ],
      "metadata": {
        "id": "ECou5bEH2S8r"
      }
    },
    {
      "cell_type": "markdown",
      "source": [
        "Мы выбираем его, потому что:\n",
        "\n",
        "1. Он автоматически обращает внимание на редкие, сложные примеры.\n",
        "2. У него есть настройки, чтобы учитывать дисбаланс (например, вес классов).\n",
        "3. Он обычно дает точные результаты, даже если данные неидеальны."
      ],
      "metadata": {
        "id": "9GIIMaxJ3HD1"
      }
    },
    {
      "cell_type": "markdown",
      "source": [
        "# ***Точность классификации?***"
      ],
      "metadata": {
        "id": "ENYHzehR4XyC"
      }
    },
    {
      "cell_type": "markdown",
      "source": [
        "Все вы знаете как работает точность и зачем она нужна!"
      ],
      "metadata": {
        "id": "kagon3if5Hus"
      }
    },
    {
      "cell_type": "markdown",
      "source": [
        "Но какая же основная проблема этой метрики, связанная с дисбалансом классов и можно ли ее использовать в нашей задаче?"
      ],
      "metadata": {
        "id": "6xjcNUp24oFS"
      }
    },
    {
      "cell_type": "markdown",
      "source": [
        "Достичь `90%` или даже `99%` точности может быть очень просто при работе с несбалансированными данными. Рассмотрим случай, когда данные имеют дисбаланс классов `1:100`. Если модель будет «слепо угадывать», всегда выбирая доминирующий класс, то её точность составит `99%`. Поэтому accuracy нам не будет подходить!"
      ],
      "metadata": {
        "id": "R-QQmCfb5JvY"
      }
    },
    {
      "cell_type": "markdown",
      "source": [
        "# ***Какие метрики будем использовать?***"
      ],
      "metadata": {
        "id": "jHnmIAaA5-nI"
      }
    },
    {
      "cell_type": "markdown",
      "source": [
        "- Предсказываете ли вы вероятности?\n",
        "  - Нужны ли вам метки классов?\n",
        "    - Является ли положительный класс более важным? - используйте **Precision-Recall AUC**\n",
        "    - Оба класса важны? - используйте **ROC AUC**\n",
        "  - Нужны ли вам вероятности? - используйте **Brier Score** и **Log-loss Score**\n",
        "\n",
        "- Предсказываете ли вы метки классов?\n",
        "  - Является ли положительный класс более важным?\n",
        "    - Ложноотрицательные и ложноположительные равнозначно важны? - используйте **F1-Measure**\n",
        "    - Ложноотрицательные важнее? - используйте **F2-Measure**\n",
        "    - Ложноположительные важнее? - используйте **F0.5-Measure**\n",
        "  - Оба класса важны?\n",
        "    - Если доля большинства меньше 80%-90% - используйте **Accuracy**\n",
        "    - Если доля большинства больше 80%-90% - используйте **G-Mean**\n"
      ],
      "metadata": {
        "id": "_8Tpsm7o6ByW"
      }
    },
    {
      "cell_type": "markdown",
      "source": [
        "Что же мы будем использовать под нашу задачу?\n"
      ],
      "metadata": {
        "id": "yH7VdUaK7bZS"
      }
    },
    {
      "cell_type": "markdown",
      "source": [
        "Мы предсказываем очевидно метки классов (потому что у нас задача классификации), также мне кажется нам важны и ложноположительные и ложноотрицательные результаты, поэтому можно использовать **F1-Measure** (возможны и другие ответы в данном подпункте)"
      ],
      "metadata": {
        "id": "F8p2ZmsW73Bl"
      }
    },
    {
      "cell_type": "markdown",
      "source": [
        "# ***Удаление выбросов***\n",
        "Нужно ли удалять выбросы, как вы думаете и если вы будете их удалять какой метод удаления будете использовать?"
      ],
      "metadata": {
        "id": "1OhrSzHNbEKr"
      }
    },
    {
      "cell_type": "markdown",
      "source": [
        "Ответ:\n",
        "1. В этом датасете мошеннические транзакции встречаются крайне редко — всего `0.172%` от всех данных.\n",
        "Эти данные по своей природе выглядят как выбросы в контексте общих тенденций: они могут иметь необычные значения по признакам, которые сильно отличаются от нормальных транзакций.\n",
        "2. Признаки в этом датасете были получены с использованием `PCA`, что уменьшает размерность данных и сводит к минимуму влияние шума. Выбросы, которые могут быть вызваны шумом, уже смягчены этим преобразованием."
      ],
      "metadata": {
        "id": "VZUTjwuFbPm7"
      }
    },
    {
      "cell_type": "markdown",
      "source": [
        "# ***Работа с данными***"
      ],
      "metadata": {
        "id": "tu5rUIVo-sw7"
      }
    },
    {
      "cell_type": "code",
      "source": [
        "X = df.drop('Class', axis=1)\n",
        "y = df['Class']"
      ],
      "metadata": {
        "id": "EY97UsmexoUO"
      },
      "execution_count": 13,
      "outputs": []
    },
    {
      "cell_type": "code",
      "source": [
        "from sklearn.model_selection import train_test_split\n",
        "X_train, X_test, y_train, y_test = train_test_split(X, y, stratify=y, test_size = 0.3, random_state = 42)"
      ],
      "metadata": {
        "id": "E0msAaSFyPxE"
      },
      "execution_count": 14,
      "outputs": []
    },
    {
      "cell_type": "markdown",
      "source": [
        "***ВАЖНО:***\n",
        "Нужно использовать ***стратифицированное разбиение***!\n",
        "Обычно такие разделения набора данных выполняются случайным образом на основе целевой переменной. Однако при случайном разбиении пропорции целевой переменной в разных частях могут различаться, особенно в случае небольших наборов данных."
      ],
      "metadata": {
        "id": "xLEp4RQk_ehb"
      }
    },
    {
      "cell_type": "code",
      "source": [
        "!pip install catboost"
      ],
      "metadata": {
        "colab": {
          "base_uri": "https://localhost:8080/"
        },
        "id": "EpbkALiv2W2u",
        "outputId": "cbb04905-06bb-4f89-9ff4-9062a4870b35"
      },
      "execution_count": 12,
      "outputs": [
        {
          "output_type": "stream",
          "name": "stdout",
          "text": [
            "Collecting catboost\n",
            "  Downloading catboost-1.2.7-cp310-cp310-manylinux2014_x86_64.whl.metadata (1.2 kB)\n",
            "Requirement already satisfied: graphviz in /usr/local/lib/python3.10/dist-packages (from catboost) (0.20.3)\n",
            "Requirement already satisfied: matplotlib in /usr/local/lib/python3.10/dist-packages (from catboost) (3.8.0)\n",
            "Requirement already satisfied: numpy<2.0,>=1.16.0 in /usr/local/lib/python3.10/dist-packages (from catboost) (1.26.4)\n",
            "Requirement already satisfied: pandas>=0.24 in /usr/local/lib/python3.10/dist-packages (from catboost) (2.2.2)\n",
            "Requirement already satisfied: scipy in /usr/local/lib/python3.10/dist-packages (from catboost) (1.13.1)\n",
            "Requirement already satisfied: plotly in /usr/local/lib/python3.10/dist-packages (from catboost) (5.24.1)\n",
            "Requirement already satisfied: six in /usr/local/lib/python3.10/dist-packages (from catboost) (1.16.0)\n",
            "Requirement already satisfied: python-dateutil>=2.8.2 in /usr/local/lib/python3.10/dist-packages (from pandas>=0.24->catboost) (2.8.2)\n",
            "Requirement already satisfied: pytz>=2020.1 in /usr/local/lib/python3.10/dist-packages (from pandas>=0.24->catboost) (2024.2)\n",
            "Requirement already satisfied: tzdata>=2022.7 in /usr/local/lib/python3.10/dist-packages (from pandas>=0.24->catboost) (2024.2)\n",
            "Requirement already satisfied: contourpy>=1.0.1 in /usr/local/lib/python3.10/dist-packages (from matplotlib->catboost) (1.3.1)\n",
            "Requirement already satisfied: cycler>=0.10 in /usr/local/lib/python3.10/dist-packages (from matplotlib->catboost) (0.12.1)\n",
            "Requirement already satisfied: fonttools>=4.22.0 in /usr/local/lib/python3.10/dist-packages (from matplotlib->catboost) (4.55.0)\n",
            "Requirement already satisfied: kiwisolver>=1.0.1 in /usr/local/lib/python3.10/dist-packages (from matplotlib->catboost) (1.4.7)\n",
            "Requirement already satisfied: packaging>=20.0 in /usr/local/lib/python3.10/dist-packages (from matplotlib->catboost) (24.2)\n",
            "Requirement already satisfied: pillow>=6.2.0 in /usr/local/lib/python3.10/dist-packages (from matplotlib->catboost) (11.0.0)\n",
            "Requirement already satisfied: pyparsing>=2.3.1 in /usr/local/lib/python3.10/dist-packages (from matplotlib->catboost) (3.2.0)\n",
            "Requirement already satisfied: tenacity>=6.2.0 in /usr/local/lib/python3.10/dist-packages (from plotly->catboost) (9.0.0)\n",
            "Downloading catboost-1.2.7-cp310-cp310-manylinux2014_x86_64.whl (98.7 MB)\n",
            "\u001b[2K   \u001b[90m━━━━━━━━━━━━━━━━━━━━━━━━━━━━━━━━━━━━━━━━\u001b[0m \u001b[32m98.7/98.7 MB\u001b[0m \u001b[31m7.6 MB/s\u001b[0m eta \u001b[36m0:00:00\u001b[0m\n",
            "\u001b[?25hInstalling collected packages: catboost\n",
            "Successfully installed catboost-1.2.7\n"
          ]
        }
      ]
    },
    {
      "cell_type": "code",
      "source": [
        "from catboost import CatBoostClassifier\n",
        "from sklearn.metrics import classification_report, roc_auc_score, precision_recall_curve, auc\n",
        "from sklearn.linear_model import LogisticRegression\n",
        "# Рассчитаем веса для классов\n",
        "negative_weight = len(y_train == 0) / len(y_train)\n",
        "positive_weight = len(y_train == 1) / len(y_train)\n",
        "class_weights = [1 / negative_weight, 1 / positive_weight]  # Инвертируем соотношение\n",
        "\n",
        "model = CatBoostClassifier(\n",
        "    iterations=500,\n",
        "    learning_rate=0.1,\n",
        "    depth=6,\n",
        "    random_seed=42,\n",
        "    verbose=100,\n",
        "    class_weights=class_weights  # Указываем веса классов\n",
        ")\n",
        "\n",
        "# Обучение модели\n",
        "model.fit(X_train, y_train)\n",
        "\n",
        "\n",
        "y_pred_proba = model.predict_proba(X_test)[:, 1]  # Вероятности для положительного класса\n",
        "y_pred = (y_pred_proba >= 0.5).astype(int)       # Классификация по порогу 0.5\n",
        "\n",
        "# Вывод метрик\n",
        "print(\"ROC-AUC Score:\", roc_auc_score(y_test, y_pred_proba))\n",
        "print(classification_report(y_test, y_pred))\n",
        "\n",
        "\n",
        "precision, recall, _ = precision_recall_curve(y_test, y_pred_proba)\n",
        "pr_auc = auc(recall, precision)\n",
        "print(\"Precision-Recall AUC:\", pr_auc)\n"
      ],
      "metadata": {
        "colab": {
          "base_uri": "https://localhost:8080/"
        },
        "id": "SaHMpHmPAzIJ",
        "outputId": "8a65f58a-8bb3-40b6-a7cc-e3824b70614c"
      },
      "execution_count": 22,
      "outputs": [
        {
          "output_type": "stream",
          "name": "stdout",
          "text": [
            "0:\tlearn: 0.3650448\ttotal: 72.5ms\tremaining: 36.2s\n",
            "100:\tlearn: 0.0013354\ttotal: 6.44s\tremaining: 25.4s\n",
            "200:\tlearn: 0.0009363\ttotal: 14.2s\tremaining: 21.2s\n",
            "300:\tlearn: 0.0006908\ttotal: 19.9s\tremaining: 13.2s\n",
            "400:\tlearn: 0.0004591\ttotal: 27.9s\tremaining: 6.88s\n",
            "499:\tlearn: 0.0003023\ttotal: 33.6s\tremaining: 0us\n",
            "ROC-AUC Score: 0.9706904336777131\n",
            "              precision    recall  f1-score   support\n",
            "\n",
            "           0       1.00      1.00      1.00     85295\n",
            "           1       0.96      0.76      0.85       148\n",
            "\n",
            "    accuracy                           1.00     85443\n",
            "   macro avg       0.98      0.88      0.92     85443\n",
            "weighted avg       1.00      1.00      1.00     85443\n",
            "\n",
            "Precision-Recall AUC: 0.8312641350778284\n"
          ]
        }
      ]
    },
    {
      "cell_type": "code",
      "source": [
        "from sklearn.metrics import fbeta_score\n",
        "\n",
        "f1_score = fbeta_score(y_test, y_pred, beta=1)\n",
        "print(\"F1-Score:\", f1_score)"
      ],
      "metadata": {
        "colab": {
          "base_uri": "https://localhost:8080/"
        },
        "id": "wZ7e8H67v6oP",
        "outputId": "b1050153-8587-4c5d-ab9f-043b37d5cd62"
      },
      "execution_count": 25,
      "outputs": [
        {
          "output_type": "stream",
          "name": "stdout",
          "text": [
            "F1-Score: 0.849624060150376\n"
          ]
        }
      ]
    },
    {
      "cell_type": "code",
      "source": [
        "from sklearn.model_selection import GridSearchCV\n",
        "from catboost import CatBoostClassifier\n",
        "import numpy as np\n",
        "\n",
        "# Базовая модель CatBoost\n",
        "base_model = CatBoostClassifier(\n",
        "    random_seed=42,\n",
        "    verbose=100,\n",
        "    class_weights=class_weights\n",
        ")\n",
        "\n",
        "# Сетка параметров для поиска\n",
        "param_grid = {\n",
        "    'iterations': [100, 300, 500],\n",
        "    'learning_rate': [0.05, 0.1, 0.2],\n",
        "    'depth': [4, 6, 8]\n",
        "}\n",
        "\n",
        "# Настройка GridSearchCV\n",
        "grid_search = GridSearchCV(\n",
        "    estimator=base_model,\n",
        "    param_grid=param_grid,\n",
        "    scoring='f1',\n",
        "    cv=3,  # 3-кратная кросс-валидация\n",
        "    verbose=2,\n",
        "    n_jobs=-1  # Параллельное выполнение\n",
        ")\n",
        "\n",
        "# Обучение с подбором параметров\n",
        "grid_search.fit(X_train, y_train)\n",
        "\n",
        "# Лучшие параметры и метрика\n",
        "print(\"Лучшие параметры:\", grid_search.best_params_)\n",
        "print(\"Лучший F1 Score на кросс-валидации:\", grid_search.best_score_)\n",
        "\n",
        "# Лучшая модель\n",
        "best_model = grid_search.best_estimator_\n",
        "\n",
        "# Оценка на тестовой выборке\n",
        "y_pred_proba = best_model.predict_proba(X_test)[:, 1]\n",
        "print(\"ROC-AUC на тестовой выборке:\", roc_auc_score(y_test, y_pred_proba))\n"
      ],
      "metadata": {
        "colab": {
          "base_uri": "https://localhost:8080/"
        },
        "id": "uL6nsjCgfzbl",
        "outputId": "27be5117-709f-4176-d6e7-9da822a0e5e8"
      },
      "execution_count": 31,
      "outputs": [
        {
          "output_type": "stream",
          "name": "stdout",
          "text": [
            "Fitting 3 folds for each of 27 candidates, totalling 81 fits\n",
            "0:\tlearn: 0.5036760\ttotal: 96.2ms\tremaining: 28.7s\n",
            "100:\tlearn: 0.0022082\ttotal: 7.72s\tremaining: 15.2s\n",
            "200:\tlearn: 0.0018246\ttotal: 12.3s\tremaining: 6.08s\n",
            "299:\tlearn: 0.0015423\ttotal: 18.6s\tremaining: 0us\n",
            "Лучшие параметры: {'depth': 4, 'iterations': 300, 'learning_rate': 0.05}\n",
            "Лучший ROC-AUC Score на кросс-валидации: 0.8651847140424538\n",
            "ROC-AUC на тестовой выборке: 0.9709289936516035\n"
          ]
        }
      ]
    },
    {
      "cell_type": "code",
      "source": [
        "from sklearn.model_selection import StratifiedKFold\n",
        "kf = StratifiedKFold(n_splits=5, shuffle=False)\n",
        "score = cross_val_score(best_model, X_train, y_train, cv=kf, scoring='f1')\n",
        "print(\"Cross Validation F1-scores are: {}\".format(score))\n",
        "print(\"Average Cross Validation F1-score: {}\".format(score.mean()))"
      ],
      "metadata": {
        "colab": {
          "base_uri": "https://localhost:8080/"
        },
        "id": "AxipIxFngBiN",
        "outputId": "76c1edca-d81c-4295-a3d9-22087313fbe0"
      },
      "execution_count": 33,
      "outputs": [
        {
          "output_type": "stream",
          "name": "stdout",
          "text": [
            "0:\tlearn: 0.5050428\ttotal: 120ms\tremaining: 35.9s\n",
            "100:\tlearn: 0.0022921\ttotal: 9.96s\tremaining: 19.6s\n",
            "200:\tlearn: 0.0018782\ttotal: 21.5s\tremaining: 10.6s\n",
            "299:\tlearn: 0.0015606\ttotal: 26.4s\tremaining: 0us\n",
            "0:\tlearn: 0.5025703\ttotal: 128ms\tremaining: 38.3s\n",
            "100:\tlearn: 0.0020619\ttotal: 7.93s\tremaining: 15.6s\n",
            "200:\tlearn: 0.0016655\ttotal: 15.7s\tremaining: 7.75s\n",
            "299:\tlearn: 0.0014117\ttotal: 23.4s\tremaining: 0us\n",
            "0:\tlearn: 0.5035628\ttotal: 40.6ms\tremaining: 12.2s\n",
            "100:\tlearn: 0.0022630\ttotal: 3.93s\tremaining: 7.75s\n",
            "200:\tlearn: 0.0018450\ttotal: 10.1s\tremaining: 4.98s\n",
            "299:\tlearn: 0.0015789\ttotal: 13.9s\tremaining: 0us\n",
            "0:\tlearn: 0.5054302\ttotal: 39.3ms\tremaining: 11.7s\n",
            "100:\tlearn: 0.0022418\ttotal: 3.94s\tremaining: 7.76s\n",
            "200:\tlearn: 0.0018032\ttotal: 10.1s\tremaining: 4.99s\n",
            "299:\tlearn: 0.0015360\ttotal: 13.9s\tremaining: 0us\n",
            "0:\tlearn: 0.5042007\ttotal: 48.3ms\tremaining: 14.4s\n",
            "100:\tlearn: 0.0020626\ttotal: 3.98s\tremaining: 7.84s\n",
            "200:\tlearn: 0.0016642\ttotal: 10.1s\tremaining: 4.96s\n",
            "299:\tlearn: 0.0013875\ttotal: 13.9s\tremaining: 0us\n",
            "Cross Validation F1-scores are: [0.90076336 0.85271318 0.86153846 0.86821705 0.85714286]\n",
            "Average Cross Validation F1-score: 0.8680749820036168\n"
          ]
        }
      ]
    },
    {
      "cell_type": "markdown",
      "source": [
        "# ***Визуализация важности признаков***"
      ],
      "metadata": {
        "id": "At1VYFSBsESs"
      }
    },
    {
      "cell_type": "code",
      "source": [
        "from catboost import Pool\n",
        "feature_importances = model.get_feature_importance(Pool(X_test, y_test))\n",
        "feature_names = X_train.columns\n",
        "\n",
        "# Визуализация\n",
        "plt.figure(figsize=(10, 6))\n",
        "plt.barh(feature_names, feature_importances)\n",
        "plt.xlabel('Feature Importance')\n",
        "plt.ylabel('Features')\n",
        "plt.title('CatBoost Feature Importance')\n",
        "plt.gca().invert_yaxis()\n",
        "plt.show()"
      ],
      "metadata": {
        "colab": {
          "base_uri": "https://localhost:8080/",
          "height": 564
        },
        "id": "sRonrDcTsDAc",
        "outputId": "3ab4333f-8054-4cbf-b4c9-34287b635b6d"
      },
      "execution_count": 44,
      "outputs": [
        {
          "output_type": "display_data",
          "data": {
            "text/plain": [
              "<Figure size 1000x600 with 1 Axes>"
            ],
            "image/png": "[encoded data removed]"
          },
          "metadata": {}
        }
      ]
    },
    {
      "cell_type": "markdown",
      "source": [
        "# ***Ансамбль моделей***"
      ],
      "metadata": {
        "id": "aSKcW9ebe7li"
      }
    },
    {
      "cell_type": "code",
      "source": [
        "from sklearn.ensemble import VotingClassifier\n",
        "from xgboost import XGBClassifier\n",
        "\n",
        "xgb_model = XGBClassifier(\n",
        "    scale_pos_weight=20,\n",
        "    random_state=42\n",
        ")\n",
        "\n",
        "# Создание ансамбля\n",
        "ensemble = VotingClassifier(\n",
        "    estimators=[\n",
        "        ('catboost', best_model),\n",
        "        ('xgb', xgb_model),\n",
        "    ],\n",
        "    voting='soft'\n",
        ")\n",
        "ensemble.fit(X_train, y_train)\n",
        "\n",
        "\n",
        "y_pred_ensemble = ensemble.predict(X_test)\n",
        "y_pred_ensemble_proba = ensemble.predict_proba(X_test)[:, 1]\n",
        "\n",
        "print(\"ROC-AUC Score (Ensemble):\", roc_auc_score(y_test, y_pred_ensemble_proba))\n",
        "print(\"\\nClassification Report (Ensemble):\")\n",
        "print(classification_report(y_test, y_pred_ensemble))\n"
      ],
      "metadata": {
        "colab": {
          "base_uri": "https://localhost:8080/"
        },
        "id": "REBaFrxfe7KS",
        "outputId": "7b54f8ac-7790-41b0-a386-25d3293cbe27"
      },
      "execution_count": 37,
      "outputs": [
        {
          "output_type": "stream",
          "name": "stdout",
          "text": [
            "0:\tlearn: 0.5036760\ttotal: 53.2ms\tremaining: 15.9s\n",
            "100:\tlearn: 0.0022082\ttotal: 7.45s\tremaining: 14.7s\n",
            "200:\tlearn: 0.0018246\ttotal: 14.7s\tremaining: 7.22s\n",
            "299:\tlearn: 0.0015423\ttotal: 24.5s\tremaining: 0us\n",
            "ROC-AUC Score (Ensemble): 0.9723781375607391\n",
            "\n",
            "Classification Report (Ensemble):\n",
            "              precision    recall  f1-score   support\n",
            "\n",
            "           0       1.00      1.00      1.00     85295\n",
            "           1       0.94      0.78      0.85       148\n",
            "\n",
            "    accuracy                           1.00     85443\n",
            "   macro avg       0.97      0.89      0.93     85443\n",
            "weighted avg       1.00      1.00      1.00     85443\n",
            "\n"
          ]
        }
      ]
    },
    {
      "cell_type": "code",
      "source": [
        "f1_score_ens = fbeta_score(y_test, y_pred_ensemble, beta=1)\n",
        "print(\"F1-Score:\", f1_score_ens)"
      ],
      "metadata": {
        "colab": {
          "base_uri": "https://localhost:8080/"
        },
        "id": "OrCdWqLZoo53",
        "outputId": "23be4f12-40a5-45d6-8845-e228c848dfe4"
      },
      "execution_count": 40,
      "outputs": [
        {
          "output_type": "stream",
          "name": "stdout",
          "text": [
            "F1-Score: 0.8529411764705882\n"
          ]
        }
      ]
    },
    {
      "cell_type": "code",
      "source": [
        "kf = StratifiedKFold(n_splits=5, shuffle=False)\n",
        "score = cross_val_score(ensemble, X_train, y_train, cv=kf, scoring='f1')\n",
        "print(\"Cross Validation F1-scores are: {}\".format(score))\n",
        "print(\"Average Cross Validation F1-score: {}\".format(score.mean()))"
      ],
      "metadata": {
        "colab": {
          "base_uri": "https://localhost:8080/"
        },
        "id": "txN9QOS1pgte",
        "outputId": "0517d180-3d8b-44d4-e720-80dfa5a945f6"
      },
      "execution_count": 42,
      "outputs": [
        {
          "output_type": "stream",
          "name": "stdout",
          "text": [
            "0:\tlearn: 0.5050428\ttotal: 88.8ms\tremaining: 26.6s\n",
            "100:\tlearn: 0.0022921\ttotal: 4.36s\tremaining: 8.6s\n",
            "200:\tlearn: 0.0018782\ttotal: 8.71s\tremaining: 4.29s\n",
            "299:\tlearn: 0.0015606\ttotal: 15.8s\tremaining: 0us\n",
            "0:\tlearn: 0.5025703\ttotal: 58.5ms\tremaining: 17.5s\n",
            "100:\tlearn: 0.0020619\ttotal: 3.9s\tremaining: 7.67s\n",
            "200:\tlearn: 0.0016655\ttotal: 7.79s\tremaining: 3.83s\n",
            "299:\tlearn: 0.0014117\ttotal: 14.1s\tremaining: 0us\n",
            "0:\tlearn: 0.5035628\ttotal: 39.6ms\tremaining: 11.8s\n",
            "100:\tlearn: 0.0022630\ttotal: 3.92s\tremaining: 7.72s\n",
            "200:\tlearn: 0.0018450\ttotal: 10.1s\tremaining: 4.96s\n",
            "299:\tlearn: 0.0015789\ttotal: 13.9s\tremaining: 0us\n",
            "0:\tlearn: 0.5054302\ttotal: 41.1ms\tremaining: 12.3s\n",
            "100:\tlearn: 0.0022418\ttotal: 6.18s\tremaining: 12.2s\n",
            "200:\tlearn: 0.0018032\ttotal: 10s\tremaining: 4.94s\n",
            "299:\tlearn: 0.0015360\ttotal: 13.8s\tremaining: 0us\n",
            "0:\tlearn: 0.5042007\ttotal: 38.9ms\tremaining: 11.6s\n",
            "100:\tlearn: 0.0020626\ttotal: 6.24s\tremaining: 12.3s\n",
            "200:\tlearn: 0.0016642\ttotal: 13.7s\tremaining: 6.74s\n",
            "299:\tlearn: 0.0013875\ttotal: 17.5s\tremaining: 0us\n",
            "Cross Validation F1-scores are: [0.88549618 0.83076923 0.86821705 0.85714286 0.8503937 ]\n",
            "Average Cross Validation F1-score: 0.8584038052338325\n"
          ]
        }
      ]
    },
    {
      "cell_type": "markdown",
      "source": [
        "# Ссылки на kaggle: [ссылка1](https://www.kaggle.com/code/youssefelbadry10/credit-card-fraud-detection#2-Preprocessing), [ссылка2](https://www.kaggle.com/code/marcinrutecki/best-techniques-and-metrics-for-imbalanced-dataset#1.-Introduction)"
      ],
      "metadata": {
        "id": "iDK-SFmByQIA"
      }
    }
  ]
}